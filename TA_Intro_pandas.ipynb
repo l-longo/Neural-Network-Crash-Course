{
  "nbformat": 4,
  "nbformat_minor": 0,
  "metadata": {
    "colab": {
      "name": "TA_Intro_pandas.ipynb",
      "provenance": [],
      "collapsed_sections": [],
      "authorship_tag": "ABX9TyM/48KjDlvI8OoE5hvj6p4I",
      "include_colab_link": true
    },
    "kernelspec": {
      "name": "python3",
      "display_name": "Python 3"
    },
    "language_info": {
      "name": "python"
    }
  },
  "cells": [
    {
      "cell_type": "markdown",
      "metadata": {
        "id": "view-in-github",
        "colab_type": "text"
      },
      "source": [
        "<a href=\"https://colab.research.google.com/github/l-longo/neural-network-crash-course/blob/main/TA_Intro_pandas.ipynb\" target=\"_parent\"><img src=\"https://colab.research.google.com/assets/colab-badge.svg\" alt=\"Open In Colab\"/></a>"
      ]
    },
    {
      "cell_type": "markdown",
      "metadata": {
        "id": "xdZ8JkcVtwqJ"
      },
      "source": [
        "#Pandas\n",
        "[Pandas](https://pandas.pydata.org/) is a package for data analysis and pre-processing in python. It is a flexible and easy-to-use manipolation tool built on Python programming language. Here the arrays are identified with labels rather than integers."
      ]
    },
    {
      "cell_type": "code",
      "metadata": {
        "id": "HPzF2zIjub4Q",
        "colab": {
          "base_uri": "https://localhost:8080/"
        },
        "outputId": "e836e109-123d-4c71-cf25-b45ce0b2b3f9"
      },
      "source": [
        "import pandas as pd\n",
        "print(pd.__version__)"
      ],
      "execution_count": null,
      "outputs": [
        {
          "output_type": "stream",
          "text": [
            "1.1.5\n"
          ],
          "name": "stdout"
        }
      ]
    },
    {
      "cell_type": "markdown",
      "metadata": {
        "id": "KrenhzrtudH8"
      },
      "source": [
        "We imported pandas and printed the version we will use. Note that you may have to first install it if you use jupyter or other python console. You can do this with the command `pip install pandas`.\n",
        "\n",
        "This tutorial is meant to introduce you to the pandas library, by giving insights on the basic functions following the official [User Guide](https://pandas.pydata.org/docs/user_guide/10min.html#object-creation) which you are supposed to check in order to have a more defined knowledge of the library."
      ]
    },
    {
      "cell_type": "code",
      "metadata": {
        "id": "P5mRLH1svH6k"
      },
      "source": [
        "import numpy as np "
      ],
      "execution_count": null,
      "outputs": []
    },
    {
      "cell_type": "markdown",
      "metadata": {
        "id": "IHQMf9I8vZXO"
      },
      "source": [
        "Pandas usage is closely related to the ones of NumPy. That is why we also import the library.\n",
        "\n",
        "##Object creation\n",
        "From a list of values we can create a series with pandas library. This will automatically index the sequence:"
      ]
    },
    {
      "cell_type": "code",
      "metadata": {
        "colab": {
          "base_uri": "https://localhost:8080/"
        },
        "id": "ygRagY0jvn3W",
        "outputId": "21462215-c8a3-4460-9b81-d32ea39a40db"
      },
      "source": [
        "series = pd.Series([1, 3, 5, np.nan, 6, 8])\n",
        "print(series)"
      ],
      "execution_count": null,
      "outputs": [
        {
          "output_type": "stream",
          "text": [
            "0    1.0\n",
            "1    3.0\n",
            "2    5.0\n",
            "3    NaN\n",
            "4    6.0\n",
            "5    8.0\n",
            "dtype: float64\n"
          ],
          "name": "stdout"
        }
      ]
    },
    {
      "cell_type": "markdown",
      "metadata": {
        "id": "VAo8DNuJwOYG"
      },
      "source": [
        "A `Series` is a single-dimensional array containing a list of values indexed (in this case indexed with integers)."
      ]
    },
    {
      "cell_type": "code",
      "metadata": {
        "colab": {
          "base_uri": "https://localhost:8080/"
        },
        "id": "myCWKqpYwa-u",
        "outputId": "ae5e218d-3318-4e1d-97e0-206b49ebcad2"
      },
      "source": [
        "print(series[0])"
      ],
      "execution_count": null,
      "outputs": [
        {
          "output_type": "stream",
          "text": [
            "1.0\n"
          ],
          "name": "stdout"
        }
      ]
    },
    {
      "cell_type": "code",
      "metadata": {
        "colab": {
          "base_uri": "https://localhost:8080/"
        },
        "id": "XSXJWQtMwfA6",
        "outputId": "200fa38b-99ef-4ec5-ff2f-94b9f5e38e82"
      },
      "source": [
        "print(series[2:])"
      ],
      "execution_count": null,
      "outputs": [
        {
          "output_type": "stream",
          "text": [
            "2    5.0\n",
            "3    NaN\n",
            "4    6.0\n",
            "5    8.0\n",
            "dtype: float64\n"
          ],
          "name": "stdout"
        }
      ]
    },
    {
      "cell_type": "markdown",
      "metadata": {
        "id": "H8D88jUvwmDE"
      },
      "source": [
        "We can access element of the series in a similar way of NumPy arrays.\n",
        "\n",
        "We can create series by specifying index as a list of strings "
      ]
    },
    {
      "cell_type": "code",
      "metadata": {
        "colab": {
          "base_uri": "https://localhost:8080/"
        },
        "id": "peZQF-5lTmq-",
        "outputId": "ea263dbc-8556-4310-9fe4-ee27b956087a"
      },
      "source": [
        "s = pd.Series([10, 8, 3, 2, 2, 7, 6, 10, 9, 4], \n",
        "              index=['zero', 'one', 'two', 'three', 'four', 'five', 'six', 'seven', 'eight', 'nine'])\n",
        "\n",
        "print(s)"
      ],
      "execution_count": null,
      "outputs": [
        {
          "output_type": "stream",
          "text": [
            "zero     10\n",
            "one       8\n",
            "two       3\n",
            "three     2\n",
            "four      2\n",
            "five      7\n",
            "six       6\n",
            "seven    10\n",
            "eight     9\n",
            "nine      4\n",
            "dtype: int64\n"
          ],
          "name": "stdout"
        }
      ]
    },
    {
      "cell_type": "code",
      "metadata": {
        "colab": {
          "base_uri": "https://localhost:8080/"
        },
        "id": "-VbmcaM2UWq4",
        "outputId": "3bdf25b3-a124-4486-c73f-36519eaecdd8"
      },
      "source": [
        "s.two"
      ],
      "execution_count": null,
      "outputs": [
        {
          "output_type": "execute_result",
          "data": {
            "text/plain": [
              "3"
            ]
          },
          "metadata": {
            "tags": []
          },
          "execution_count": 7
        }
      ]
    },
    {
      "cell_type": "markdown",
      "metadata": {
        "id": "02D_WWLHefD8"
      },
      "source": [
        "the `iloc` command is another way to access elements:"
      ]
    },
    {
      "cell_type": "code",
      "metadata": {
        "colab": {
          "base_uri": "https://localhost:8080/"
        },
        "id": "OIwq9hJYeW7X",
        "outputId": "80286f33-40ab-4912-9b56-57f6ec03df46"
      },
      "source": [
        "s.iloc[0]\n"
      ],
      "execution_count": null,
      "outputs": [
        {
          "output_type": "execute_result",
          "data": {
            "text/plain": [
              "10"
            ]
          },
          "metadata": {
            "tags": []
          },
          "execution_count": 8
        }
      ]
    },
    {
      "cell_type": "markdown",
      "metadata": {
        "id": "wtxCaJiIUdc1"
      },
      "source": [
        "This is another way to access values in a series.\n",
        "\n",
        "##Dictionaries and series\n",
        "We can convert a dictionary into a series:"
      ]
    },
    {
      "cell_type": "code",
      "metadata": {
        "colab": {
          "base_uri": "https://localhost:8080/"
        },
        "id": "uRtpM6Iqc7UM",
        "outputId": "94742889-6918-4f7b-8c99-480620487594"
      },
      "source": [
        "dict0 = {'Mercedes': 60, 'Audi': 20, 'Jeep': 50, 'Renault': 40}\n",
        "print(dict0)\n",
        "print('\\n')\n",
        "print(pd.Series(dict0))"
      ],
      "execution_count": null,
      "outputs": [
        {
          "output_type": "stream",
          "text": [
            "{'Mercedes': 60, 'Audi': 20, 'Jeep': 50, 'Renault': 40}\n",
            "\n",
            "\n",
            "Mercedes    60\n",
            "Audi        20\n",
            "Jeep        50\n",
            "Renault     40\n",
            "dtype: int64\n"
          ],
          "name": "stdout"
        }
      ]
    },
    {
      "cell_type": "markdown",
      "metadata": {
        "id": "c4pbsXIagDzr"
      },
      "source": [
        "##Dataframe\n",
        "A `dataframe` can be seen as a rectangular table of data. Similar to a 2-D array, a dataframe has rows and columns labelled with integers or strings. Unlike a numpy array, a dataframe can handle different data-type."
      ]
    },
    {
      "cell_type": "code",
      "metadata": {
        "colab": {
          "base_uri": "https://localhost:8080/"
        },
        "id": "YBIUKfoGho75",
        "outputId": "0149e40d-6260-49da-a9f1-cfee11662e8e"
      },
      "source": [
        "heights = [1.68, 1.70, 1.65, 1.80, 1.78]\n",
        "GPA = [4.0, 3.7, 3.9, 3.1, 3.5]\n",
        "c=np.array([heights, GPA]).T\n",
        "df = pd.DataFrame(c,\n",
        "                  columns=['heights', 'GPA'],\n",
        "                  index=['Elisabeth', 'Ilary', 'Mark', 'Bob', 'Peter'])\n",
        "\n",
        "print(c.dtype)\n",
        "print(df)"
      ],
      "execution_count": null,
      "outputs": [
        {
          "output_type": "stream",
          "text": [
            "float64\n",
            "           heights  GPA\n",
            "Elisabeth     1.68  4.0\n",
            "Ilary         1.70  3.7\n",
            "Mark          1.65  3.9\n",
            "Bob           1.80  3.1\n",
            "Peter         1.78  3.5\n"
          ],
          "name": "stdout"
        }
      ]
    },
    {
      "cell_type": "markdown",
      "metadata": {
        "id": "eYS_o7fpmIz3"
      },
      "source": [
        "With the above code we created a 2-D array with heights and GPA of some imaginary students. With the command `pd.dataframe` we can convert the array in a dataframe with labels for rows and columns.\n",
        "\n",
        "With the command `to_numpy()` we can get the original array:"
      ]
    },
    {
      "cell_type": "code",
      "metadata": {
        "colab": {
          "base_uri": "https://localhost:8080/"
        },
        "id": "4Hru3r30napq",
        "outputId": "c156cb4d-f398-47fe-e8ed-bfd1bc30677c"
      },
      "source": [
        "print(df.to_numpy())"
      ],
      "execution_count": null,
      "outputs": [
        {
          "output_type": "stream",
          "text": [
            "[[1.68 4.  ]\n",
            " [1.7  3.7 ]\n",
            " [1.65 3.9 ]\n",
            " [1.8  3.1 ]\n",
            " [1.78 3.5 ]]\n"
          ],
          "name": "stdout"
        }
      ]
    },
    {
      "cell_type": "markdown",
      "metadata": {
        "id": "uKPaMYELnkyQ"
      },
      "source": [
        "The same as $c$:"
      ]
    },
    {
      "cell_type": "code",
      "metadata": {
        "colab": {
          "base_uri": "https://localhost:8080/"
        },
        "id": "Lc-9nnqhnnfO",
        "outputId": "51c44b74-4f24-41cf-ed70-f820959aed61"
      },
      "source": [
        "print(c)"
      ],
      "execution_count": null,
      "outputs": [
        {
          "output_type": "stream",
          "text": [
            "[[1.68 4.  ]\n",
            " [1.7  3.7 ]\n",
            " [1.65 3.9 ]\n",
            " [1.8  3.1 ]\n",
            " [1.78 3.5 ]]\n"
          ],
          "name": "stdout"
        }
      ]
    },
    {
      "cell_type": "markdown",
      "metadata": {
        "id": "v4ihSFuXoHRC"
      },
      "source": [
        "###Insert columns\n",
        "After a dataframe is created we can use functions to insert new columns. Let's say that we want to insert a column with the hair's color of the students. In this case we have a list of strings:"
      ]
    },
    {
      "cell_type": "code",
      "metadata": {
        "id": "maF4nq8woZxb"
      },
      "source": [
        "color = ['red', 'brown', 'brown', 'blonde', 'brown']"
      ],
      "execution_count": null,
      "outputs": []
    },
    {
      "cell_type": "markdown",
      "metadata": {
        "id": "vlXxDsKJoati"
      },
      "source": [
        "and we use the command `insert` in which we specify the column index, the name of the new column and the value:"
      ]
    },
    {
      "cell_type": "code",
      "metadata": {
        "colab": {
          "base_uri": "https://localhost:8080/"
        },
        "id": "1Jtx865dokPk",
        "outputId": "95b8aa44-a33a-4c87-c166-4f64f7333b8e"
      },
      "source": [
        "df.insert(loc=2,column='color',value=color)\n",
        "print(df)"
      ],
      "execution_count": null,
      "outputs": [
        {
          "output_type": "stream",
          "text": [
            "           heights  GPA   color\n",
            "Elisabeth     1.68  4.0     red\n",
            "Ilary         1.70  3.7   brown\n",
            "Mark          1.65  3.9   brown\n",
            "Bob           1.80  3.1  blonde\n",
            "Peter         1.78  3.5   brown\n"
          ],
          "name": "stdout"
        }
      ]
    },
    {
      "cell_type": "markdown",
      "metadata": {
        "id": "JF8kfHMPqFN8"
      },
      "source": [
        "###Access elements in dataframe\n",
        "\n",
        "Accessing elements in a dataframe is similar as for series, we can access horizzontally and vertically. We access the column in the same way of series:"
      ]
    },
    {
      "cell_type": "code",
      "metadata": {
        "colab": {
          "base_uri": "https://localhost:8080/"
        },
        "id": "OlTYOu4bqV7a",
        "outputId": "6d3eb91a-8d62-4e8f-f0b1-d85a5e3eb506"
      },
      "source": [
        "print(df.GPA)\n",
        "print('\\n')\n",
        "print(df.heights)"
      ],
      "execution_count": null,
      "outputs": [
        {
          "output_type": "stream",
          "text": [
            "Elisabeth    4.0\n",
            "Ilary        3.7\n",
            "Mark         3.9\n",
            "Bob          3.1\n",
            "Peter        3.5\n",
            "Name: GPA, dtype: float64\n",
            "\n",
            "\n",
            "Elisabeth    1.68\n",
            "Ilary        1.70\n",
            "Mark         1.65\n",
            "Bob          1.80\n",
            "Peter        1.78\n",
            "Name: heights, dtype: float64\n"
          ],
          "name": "stdout"
        }
      ]
    },
    {
      "cell_type": "markdown",
      "metadata": {
        "id": "xcwT_FCsrgrW"
      },
      "source": [
        "Or you can access elements by selecting the row:"
      ]
    },
    {
      "cell_type": "code",
      "metadata": {
        "colab": {
          "base_uri": "https://localhost:8080/"
        },
        "id": "VOD9_a7arfaa",
        "outputId": "870cf979-b041-4609-96ef-3f46940df07d"
      },
      "source": [
        "print(df.iloc[1])"
      ],
      "execution_count": null,
      "outputs": [
        {
          "output_type": "stream",
          "text": [
            "heights      1.7\n",
            "GPA          3.7\n",
            "color      brown\n",
            "Name: Ilary, dtype: object\n"
          ],
          "name": "stdout"
        }
      ]
    },
    {
      "cell_type": "code",
      "metadata": {
        "id": "lESn0-JAsrRr",
        "colab": {
          "base_uri": "https://localhost:8080/"
        },
        "outputId": "e4cd26b3-f37d-4fc5-d376-4231bd68d352"
      },
      "source": [
        "print(df.iloc[1:])"
      ],
      "execution_count": null,
      "outputs": [
        {
          "output_type": "stream",
          "text": [
            "       heights  GPA   color\n",
            "Ilary     1.70  3.7   brown\n",
            "Mark      1.65  3.9   brown\n",
            "Bob       1.80  3.1  blonde\n",
            "Peter     1.78  3.5   brown\n"
          ],
          "name": "stdout"
        }
      ]
    },
    {
      "cell_type": "markdown",
      "metadata": {
        "id": "czpPElkBr7FR"
      },
      "source": [
        "### Working with NaN\n",
        "\n",
        "Dataframe can easily handle NaN values. Let's make an example:"
      ]
    },
    {
      "cell_type": "code",
      "metadata": {
        "colab": {
          "base_uri": "https://localhost:8080/",
          "height": 206
        },
        "id": "G8X6M9Hg7vgM",
        "outputId": "0d688c3e-1ce3-4c99-bec7-ad9842e6dd51"
      },
      "source": [
        "df"
      ],
      "execution_count": null,
      "outputs": [
        {
          "output_type": "execute_result",
          "data": {
            "text/html": [
              "<div>\n",
              "<style scoped>\n",
              "    .dataframe tbody tr th:only-of-type {\n",
              "        vertical-align: middle;\n",
              "    }\n",
              "\n",
              "    .dataframe tbody tr th {\n",
              "        vertical-align: top;\n",
              "    }\n",
              "\n",
              "    .dataframe thead th {\n",
              "        text-align: right;\n",
              "    }\n",
              "</style>\n",
              "<table border=\"1\" class=\"dataframe\">\n",
              "  <thead>\n",
              "    <tr style=\"text-align: right;\">\n",
              "      <th></th>\n",
              "      <th>heights</th>\n",
              "      <th>GPA</th>\n",
              "      <th>color</th>\n",
              "    </tr>\n",
              "  </thead>\n",
              "  <tbody>\n",
              "    <tr>\n",
              "      <th>Elisabeth</th>\n",
              "      <td>1.68</td>\n",
              "      <td>4.0</td>\n",
              "      <td>red</td>\n",
              "    </tr>\n",
              "    <tr>\n",
              "      <th>Ilary</th>\n",
              "      <td>1.70</td>\n",
              "      <td>3.7</td>\n",
              "      <td>brown</td>\n",
              "    </tr>\n",
              "    <tr>\n",
              "      <th>Mark</th>\n",
              "      <td>1.65</td>\n",
              "      <td>3.9</td>\n",
              "      <td>brown</td>\n",
              "    </tr>\n",
              "    <tr>\n",
              "      <th>Bob</th>\n",
              "      <td>1.80</td>\n",
              "      <td>3.1</td>\n",
              "      <td>blonde</td>\n",
              "    </tr>\n",
              "    <tr>\n",
              "      <th>Peter</th>\n",
              "      <td>1.78</td>\n",
              "      <td>3.5</td>\n",
              "      <td>brown</td>\n",
              "    </tr>\n",
              "  </tbody>\n",
              "</table>\n",
              "</div>"
            ],
            "text/plain": [
              "           heights  GPA   color\n",
              "Elisabeth     1.68  4.0     red\n",
              "Ilary         1.70  3.7   brown\n",
              "Mark          1.65  3.9   brown\n",
              "Bob           1.80  3.1  blonde\n",
              "Peter         1.78  3.5   brown"
            ]
          },
          "metadata": {
            "tags": []
          },
          "execution_count": 18
        }
      ]
    },
    {
      "cell_type": "code",
      "metadata": {
        "colab": {
          "base_uri": "https://localhost:8080/"
        },
        "id": "2C-aL8jb8sBg",
        "outputId": "2ec202f8-6f53-412e-f011-fef609606d22"
      },
      "source": [
        "print(df.iloc[2,1])"
      ],
      "execution_count": null,
      "outputs": [
        {
          "output_type": "stream",
          "text": [
            "3.9\n"
          ],
          "name": "stdout"
        }
      ]
    },
    {
      "cell_type": "markdown",
      "metadata": {
        "id": "cy2h2ZZY8_-e"
      },
      "source": [
        "with the function iloc we access the third row of column GPA, which is the one of Mark (note that the function iloc allows to access dataframe the same way we can access 2-D array). We change this value to a NaN:"
      ]
    },
    {
      "cell_type": "code",
      "metadata": {
        "colab": {
          "base_uri": "https://localhost:8080/"
        },
        "id": "H6eor9O79QoQ",
        "outputId": "7d185363-54af-48f6-eb90-381359c8e607"
      },
      "source": [
        "df.iloc[2,1] = np.nan\n",
        "print(df)"
      ],
      "execution_count": null,
      "outputs": [
        {
          "output_type": "stream",
          "text": [
            "           heights  GPA   color\n",
            "Elisabeth     1.68  4.0     red\n",
            "Ilary         1.70  3.7   brown\n",
            "Mark          1.65  NaN   brown\n",
            "Bob           1.80  3.1  blonde\n",
            "Peter         1.78  3.5   brown\n"
          ],
          "name": "stdout"
        }
      ]
    },
    {
      "cell_type": "markdown",
      "metadata": {
        "id": "4ITFd0BW-lqP"
      },
      "source": [
        "The Nan value can be handled in different ways. The more brutal solution is to delete the rows with a NaN:"
      ]
    },
    {
      "cell_type": "code",
      "metadata": {
        "colab": {
          "base_uri": "https://localhost:8080/",
          "height": 175
        },
        "id": "yf1Ac6ud-u68",
        "outputId": "8ed9d9d5-670f-45b4-c9ff-1f50d4c5faff"
      },
      "source": [
        "df.dropna()"
      ],
      "execution_count": null,
      "outputs": [
        {
          "output_type": "execute_result",
          "data": {
            "text/html": [
              "<div>\n",
              "<style scoped>\n",
              "    .dataframe tbody tr th:only-of-type {\n",
              "        vertical-align: middle;\n",
              "    }\n",
              "\n",
              "    .dataframe tbody tr th {\n",
              "        vertical-align: top;\n",
              "    }\n",
              "\n",
              "    .dataframe thead th {\n",
              "        text-align: right;\n",
              "    }\n",
              "</style>\n",
              "<table border=\"1\" class=\"dataframe\">\n",
              "  <thead>\n",
              "    <tr style=\"text-align: right;\">\n",
              "      <th></th>\n",
              "      <th>heights</th>\n",
              "      <th>GPA</th>\n",
              "      <th>color</th>\n",
              "    </tr>\n",
              "  </thead>\n",
              "  <tbody>\n",
              "    <tr>\n",
              "      <th>Elisabeth</th>\n",
              "      <td>1.68</td>\n",
              "      <td>4.0</td>\n",
              "      <td>red</td>\n",
              "    </tr>\n",
              "    <tr>\n",
              "      <th>Ilary</th>\n",
              "      <td>1.70</td>\n",
              "      <td>3.7</td>\n",
              "      <td>brown</td>\n",
              "    </tr>\n",
              "    <tr>\n",
              "      <th>Bob</th>\n",
              "      <td>1.80</td>\n",
              "      <td>3.1</td>\n",
              "      <td>blonde</td>\n",
              "    </tr>\n",
              "    <tr>\n",
              "      <th>Peter</th>\n",
              "      <td>1.78</td>\n",
              "      <td>3.5</td>\n",
              "      <td>brown</td>\n",
              "    </tr>\n",
              "  </tbody>\n",
              "</table>\n",
              "</div>"
            ],
            "text/plain": [
              "           heights  GPA   color\n",
              "Elisabeth     1.68  4.0     red\n",
              "Ilary         1.70  3.7   brown\n",
              "Bob           1.80  3.1  blonde\n",
              "Peter         1.78  3.5   brown"
            ]
          },
          "metadata": {
            "tags": []
          },
          "execution_count": 21
        }
      ]
    },
    {
      "cell_type": "markdown",
      "metadata": {
        "id": "mVEwyhZp-0gH"
      },
      "source": [
        "or we can fill it with a value:"
      ]
    },
    {
      "cell_type": "code",
      "metadata": {
        "colab": {
          "base_uri": "https://localhost:8080/",
          "height": 206
        },
        "id": "i5MNWiI8-k4V",
        "outputId": "c9e18757-d073-4694-f1e6-60d86f4f340f"
      },
      "source": [
        "df.fillna(0)"
      ],
      "execution_count": null,
      "outputs": [
        {
          "output_type": "execute_result",
          "data": {
            "text/html": [
              "<div>\n",
              "<style scoped>\n",
              "    .dataframe tbody tr th:only-of-type {\n",
              "        vertical-align: middle;\n",
              "    }\n",
              "\n",
              "    .dataframe tbody tr th {\n",
              "        vertical-align: top;\n",
              "    }\n",
              "\n",
              "    .dataframe thead th {\n",
              "        text-align: right;\n",
              "    }\n",
              "</style>\n",
              "<table border=\"1\" class=\"dataframe\">\n",
              "  <thead>\n",
              "    <tr style=\"text-align: right;\">\n",
              "      <th></th>\n",
              "      <th>heights</th>\n",
              "      <th>GPA</th>\n",
              "      <th>color</th>\n",
              "    </tr>\n",
              "  </thead>\n",
              "  <tbody>\n",
              "    <tr>\n",
              "      <th>Elisabeth</th>\n",
              "      <td>1.68</td>\n",
              "      <td>4.0</td>\n",
              "      <td>red</td>\n",
              "    </tr>\n",
              "    <tr>\n",
              "      <th>Ilary</th>\n",
              "      <td>1.70</td>\n",
              "      <td>3.7</td>\n",
              "      <td>brown</td>\n",
              "    </tr>\n",
              "    <tr>\n",
              "      <th>Mark</th>\n",
              "      <td>1.65</td>\n",
              "      <td>0.0</td>\n",
              "      <td>brown</td>\n",
              "    </tr>\n",
              "    <tr>\n",
              "      <th>Bob</th>\n",
              "      <td>1.80</td>\n",
              "      <td>3.1</td>\n",
              "      <td>blonde</td>\n",
              "    </tr>\n",
              "    <tr>\n",
              "      <th>Peter</th>\n",
              "      <td>1.78</td>\n",
              "      <td>3.5</td>\n",
              "      <td>brown</td>\n",
              "    </tr>\n",
              "  </tbody>\n",
              "</table>\n",
              "</div>"
            ],
            "text/plain": [
              "           heights  GPA   color\n",
              "Elisabeth     1.68  4.0     red\n",
              "Ilary         1.70  3.7   brown\n",
              "Mark          1.65  0.0   brown\n",
              "Bob           1.80  3.1  blonde\n",
              "Peter         1.78  3.5   brown"
            ]
          },
          "metadata": {
            "tags": []
          },
          "execution_count": 22
        }
      ]
    },
    {
      "cell_type": "markdown",
      "metadata": {
        "id": "m41DzP4D_KzN"
      },
      "source": [
        "we can fill it with 0 or with a value of one of the colleagues:"
      ]
    },
    {
      "cell_type": "code",
      "metadata": {
        "colab": {
          "base_uri": "https://localhost:8080/",
          "height": 206
        },
        "id": "mkfEVZrs-9iS",
        "outputId": "e31a3145-94cc-44e5-c020-fe90f00cf1ec"
      },
      "source": [
        "df.fillna(df.iloc[1,1])"
      ],
      "execution_count": null,
      "outputs": [
        {
          "output_type": "execute_result",
          "data": {
            "text/html": [
              "<div>\n",
              "<style scoped>\n",
              "    .dataframe tbody tr th:only-of-type {\n",
              "        vertical-align: middle;\n",
              "    }\n",
              "\n",
              "    .dataframe tbody tr th {\n",
              "        vertical-align: top;\n",
              "    }\n",
              "\n",
              "    .dataframe thead th {\n",
              "        text-align: right;\n",
              "    }\n",
              "</style>\n",
              "<table border=\"1\" class=\"dataframe\">\n",
              "  <thead>\n",
              "    <tr style=\"text-align: right;\">\n",
              "      <th></th>\n",
              "      <th>heights</th>\n",
              "      <th>GPA</th>\n",
              "      <th>color</th>\n",
              "    </tr>\n",
              "  </thead>\n",
              "  <tbody>\n",
              "    <tr>\n",
              "      <th>Elisabeth</th>\n",
              "      <td>1.68</td>\n",
              "      <td>4.0</td>\n",
              "      <td>red</td>\n",
              "    </tr>\n",
              "    <tr>\n",
              "      <th>Ilary</th>\n",
              "      <td>1.70</td>\n",
              "      <td>3.7</td>\n",
              "      <td>brown</td>\n",
              "    </tr>\n",
              "    <tr>\n",
              "      <th>Mark</th>\n",
              "      <td>1.65</td>\n",
              "      <td>3.7</td>\n",
              "      <td>brown</td>\n",
              "    </tr>\n",
              "    <tr>\n",
              "      <th>Bob</th>\n",
              "      <td>1.80</td>\n",
              "      <td>3.1</td>\n",
              "      <td>blonde</td>\n",
              "    </tr>\n",
              "    <tr>\n",
              "      <th>Peter</th>\n",
              "      <td>1.78</td>\n",
              "      <td>3.5</td>\n",
              "      <td>brown</td>\n",
              "    </tr>\n",
              "  </tbody>\n",
              "</table>\n",
              "</div>"
            ],
            "text/plain": [
              "           heights  GPA   color\n",
              "Elisabeth     1.68  4.0     red\n",
              "Ilary         1.70  3.7   brown\n",
              "Mark          1.65  3.7   brown\n",
              "Bob           1.80  3.1  blonde\n",
              "Peter         1.78  3.5   brown"
            ]
          },
          "metadata": {
            "tags": []
          },
          "execution_count": 23
        }
      ]
    },
    {
      "cell_type": "markdown",
      "metadata": {
        "id": "_69qBNWN_Pz2"
      },
      "source": [
        "the way we handle NaN is closely related to the application or the dataset. If we have a time series we may want to linearly interpolate:"
      ]
    },
    {
      "cell_type": "code",
      "metadata": {
        "id": "YaN8-NkW_X9f",
        "colab": {
          "base_uri": "https://localhost:8080/",
          "height": 206
        },
        "outputId": "84069933-5d63-4d7c-9c3e-2e5028bd7bfd"
      },
      "source": [
        "df.interpolate()"
      ],
      "execution_count": null,
      "outputs": [
        {
          "output_type": "execute_result",
          "data": {
            "text/html": [
              "<div>\n",
              "<style scoped>\n",
              "    .dataframe tbody tr th:only-of-type {\n",
              "        vertical-align: middle;\n",
              "    }\n",
              "\n",
              "    .dataframe tbody tr th {\n",
              "        vertical-align: top;\n",
              "    }\n",
              "\n",
              "    .dataframe thead th {\n",
              "        text-align: right;\n",
              "    }\n",
              "</style>\n",
              "<table border=\"1\" class=\"dataframe\">\n",
              "  <thead>\n",
              "    <tr style=\"text-align: right;\">\n",
              "      <th></th>\n",
              "      <th>heights</th>\n",
              "      <th>GPA</th>\n",
              "      <th>color</th>\n",
              "    </tr>\n",
              "  </thead>\n",
              "  <tbody>\n",
              "    <tr>\n",
              "      <th>Elisabeth</th>\n",
              "      <td>1.68</td>\n",
              "      <td>4.0</td>\n",
              "      <td>red</td>\n",
              "    </tr>\n",
              "    <tr>\n",
              "      <th>Ilary</th>\n",
              "      <td>1.70</td>\n",
              "      <td>3.7</td>\n",
              "      <td>brown</td>\n",
              "    </tr>\n",
              "    <tr>\n",
              "      <th>Mark</th>\n",
              "      <td>1.65</td>\n",
              "      <td>3.4</td>\n",
              "      <td>brown</td>\n",
              "    </tr>\n",
              "    <tr>\n",
              "      <th>Bob</th>\n",
              "      <td>1.80</td>\n",
              "      <td>3.1</td>\n",
              "      <td>blonde</td>\n",
              "    </tr>\n",
              "    <tr>\n",
              "      <th>Peter</th>\n",
              "      <td>1.78</td>\n",
              "      <td>3.5</td>\n",
              "      <td>brown</td>\n",
              "    </tr>\n",
              "  </tbody>\n",
              "</table>\n",
              "</div>"
            ],
            "text/plain": [
              "           heights  GPA   color\n",
              "Elisabeth     1.68  4.0     red\n",
              "Ilary         1.70  3.7   brown\n",
              "Mark          1.65  3.4   brown\n",
              "Bob           1.80  3.1  blonde\n",
              "Peter         1.78  3.5   brown"
            ]
          },
          "metadata": {
            "tags": []
          },
          "execution_count": 24
        }
      ]
    },
    {
      "cell_type": "markdown",
      "metadata": {
        "id": "tC13yyFkOvE8"
      },
      "source": [
        "We can also detect missing values with functions `isna()`, `isnull()`: "
      ]
    },
    {
      "cell_type": "code",
      "metadata": {
        "colab": {
          "base_uri": "https://localhost:8080/"
        },
        "id": "i0tRFPWtOjy3",
        "outputId": "c74994f2-7e65-42cf-c707-572692c7aaeb"
      },
      "source": [
        "print(df.isna())\n",
        "print('\\n')\n",
        "print(df.isnull())"
      ],
      "execution_count": null,
      "outputs": [
        {
          "output_type": "stream",
          "text": [
            "           heights    GPA  color\n",
            "Elisabeth    False  False  False\n",
            "Ilary        False  False  False\n",
            "Mark         False   True  False\n",
            "Bob          False  False  False\n",
            "Peter        False  False  False\n",
            "\n",
            "\n",
            "           heights    GPA  color\n",
            "Elisabeth    False  False  False\n",
            "Ilary        False  False  False\n",
            "Mark         False   True  False\n",
            "Bob          False  False  False\n",
            "Peter        False  False  False\n"
          ],
          "name": "stdout"
        }
      ]
    },
    {
      "cell_type": "markdown",
      "metadata": {
        "id": "WNTDBTUmLh3Z"
      },
      "source": [
        "##Pandas datareader\n",
        "\n",
        "There are many functions within the Pandas framework and you can find a broader view in the official guidelines. We will now see how to import data from external websites using the pandas data reader."
      ]
    },
    {
      "cell_type": "code",
      "metadata": {
        "id": "eI9ytv0Khixc"
      },
      "source": [
        "import pandas_datareader as pdr"
      ],
      "execution_count": null,
      "outputs": []
    },
    {
      "cell_type": "markdown",
      "metadata": {
        "id": "Ihcx7DFthsJH"
      },
      "source": [
        "We will get data from [Fred](https://fred.stlouisfed.org/), a public websites with official macroeconomic releases and financial variables. Let's firstly define string of dates for the period that we want:"
      ]
    },
    {
      "cell_type": "code",
      "metadata": {
        "colab": {
          "base_uri": "https://localhost:8080/"
        },
        "id": "dj8VyZ0Hio3q",
        "outputId": "8974a36b-60f5-45b3-ab94-942f4e2b7a5e"
      },
      "source": [
        "os='1959-01-01'\n",
        "oe=pd.Timestamp(\"today\").strftime(\"%Y-%m-%d\")\n",
        "print(os)\n",
        "print(oe)"
      ],
      "execution_count": null,
      "outputs": [
        {
          "output_type": "stream",
          "text": [
            "1959-01-01\n",
            "2021-05-27\n"
          ],
          "name": "stdout"
        }
      ]
    },
    {
      "cell_type": "code",
      "metadata": {
        "colab": {
          "base_uri": "https://localhost:8080/",
          "height": 455
        },
        "id": "qSJlpqMXi7yz",
        "outputId": "0890fb9f-3a15-4886-8676-ef8ca2ee9a1d"
      },
      "source": [
        "gdp = pdr.get_data_fred('A191RP1Q027SBEA', start=os, end=oe)\n",
        "gdp"
      ],
      "execution_count": null,
      "outputs": [
        {
          "output_type": "execute_result",
          "data": {
            "text/html": [
              "<div>\n",
              "<style scoped>\n",
              "    .dataframe tbody tr th:only-of-type {\n",
              "        vertical-align: middle;\n",
              "    }\n",
              "\n",
              "    .dataframe tbody tr th {\n",
              "        vertical-align: top;\n",
              "    }\n",
              "\n",
              "    .dataframe thead th {\n",
              "        text-align: right;\n",
              "    }\n",
              "</style>\n",
              "<table border=\"1\" class=\"dataframe\">\n",
              "  <thead>\n",
              "    <tr style=\"text-align: right;\">\n",
              "      <th></th>\n",
              "      <th>A191RP1Q027SBEA</th>\n",
              "    </tr>\n",
              "    <tr>\n",
              "      <th>DATE</th>\n",
              "      <th></th>\n",
              "    </tr>\n",
              "  </thead>\n",
              "  <tbody>\n",
              "    <tr>\n",
              "      <th>1959-01-01</th>\n",
              "      <td>8.9</td>\n",
              "    </tr>\n",
              "    <tr>\n",
              "      <th>1959-04-01</th>\n",
              "      <td>10.0</td>\n",
              "    </tr>\n",
              "    <tr>\n",
              "      <th>1959-07-01</th>\n",
              "      <td>1.8</td>\n",
              "    </tr>\n",
              "    <tr>\n",
              "      <th>1959-10-01</th>\n",
              "      <td>2.7</td>\n",
              "    </tr>\n",
              "    <tr>\n",
              "      <th>1960-01-01</th>\n",
              "      <td>11.1</td>\n",
              "    </tr>\n",
              "    <tr>\n",
              "      <th>...</th>\n",
              "      <td>...</td>\n",
              "    </tr>\n",
              "    <tr>\n",
              "      <th>2020-01-01</th>\n",
              "      <td>-3.4</td>\n",
              "    </tr>\n",
              "    <tr>\n",
              "      <th>2020-04-01</th>\n",
              "      <td>-32.8</td>\n",
              "    </tr>\n",
              "    <tr>\n",
              "      <th>2020-07-01</th>\n",
              "      <td>38.3</td>\n",
              "    </tr>\n",
              "    <tr>\n",
              "      <th>2020-10-01</th>\n",
              "      <td>6.3</td>\n",
              "    </tr>\n",
              "    <tr>\n",
              "      <th>2021-01-01</th>\n",
              "      <td>10.7</td>\n",
              "    </tr>\n",
              "  </tbody>\n",
              "</table>\n",
              "<p>249 rows × 1 columns</p>\n",
              "</div>"
            ],
            "text/plain": [
              "            A191RP1Q027SBEA\n",
              "DATE                       \n",
              "1959-01-01              8.9\n",
              "1959-04-01             10.0\n",
              "1959-07-01              1.8\n",
              "1959-10-01              2.7\n",
              "1960-01-01             11.1\n",
              "...                     ...\n",
              "2020-01-01             -3.4\n",
              "2020-04-01            -32.8\n",
              "2020-07-01             38.3\n",
              "2020-10-01              6.3\n",
              "2021-01-01             10.7\n",
              "\n",
              "[249 rows x 1 columns]"
            ]
          },
          "metadata": {
            "tags": []
          },
          "execution_count": 28
        }
      ]
    },
    {
      "cell_type": "markdown",
      "metadata": {
        "id": "QII-2NwwjF0i"
      },
      "source": [
        "We just collected a dataframe of the US GDP quarterly percent change by using the appropriate FRED code. Therefore the command returns a dataframe with date as index. \n",
        "\n",
        "###Create a dataset\n",
        "We now create a dataframe with more macroeconomic releases:"
      ]
    },
    {
      "cell_type": "code",
      "metadata": {
        "id": "GhzjtFVnj2-U"
      },
      "source": [
        "df = {}\n",
        "#Quarterly variables:\n",
        "df['GDP'] = pdr.get_data_fred('A191RP1Q027SBEA', start=os, end=oe).iloc[:,0] #GDP\n",
        "df['M1V'] = pdr.get_data_fred('M1V', start=os, end=oe).iloc[:,0] #money 1 velocity\n",
        "df['M2V'] = pdr.get_data_fred('M2V', start=os, end=oe).iloc[:,0] #money 2 velocity\n",
        "#Monthly variables:\n",
        "df['Unemp'] = pdr.get_data_fred('UNRATE', start=os, end=oe).iloc[:,0] #measure of unemployment\n",
        "df['infl'] = pdr.get_data_fred('CPIAUCSL', start=os, end=oe).iloc[:,0] #CPI\n",
        "df['un'] = pdr.get_data_fred('UNEMPLOY', start=os, end=oe).iloc[:,0] #another measure of unemployment\n",
        "df = pd.DataFrame(df)\n",
        "\n",
        "df_weekly = {}\n",
        "#weekly variables:\n",
        "df_weekly['claims'] = pdr.get_data_fred('ICSA', start=os, end=oe).iloc[:,0] #initial claims\n",
        "df_weekly = pd.DataFrame(df_weekly)\n",
        "\n",
        "df = df[df.index<\"2021-02-01\"]\n",
        "df_weekly = df_weekly[df_weekly.index<\"2021-02-01\"]"
      ],
      "execution_count": null,
      "outputs": []
    },
    {
      "cell_type": "markdown",
      "metadata": {
        "id": "L4QcwcMikmN6"
      },
      "source": [
        "In this code we defined two dataframes by combining monthly and quarterly variables in df and a weekly variable in df_weekly. We also keep an upper bound for the index in order to meet the last official release of GDP."
      ]
    },
    {
      "cell_type": "code",
      "metadata": {
        "colab": {
          "base_uri": "https://localhost:8080/",
          "height": 455
        },
        "id": "vq6txFUBkDuQ",
        "outputId": "81194b67-f9d9-432a-e65b-1dacf78d17b9"
      },
      "source": [
        "df"
      ],
      "execution_count": null,
      "outputs": [
        {
          "output_type": "execute_result",
          "data": {
            "text/html": [
              "<div>\n",
              "<style scoped>\n",
              "    .dataframe tbody tr th:only-of-type {\n",
              "        vertical-align: middle;\n",
              "    }\n",
              "\n",
              "    .dataframe tbody tr th {\n",
              "        vertical-align: top;\n",
              "    }\n",
              "\n",
              "    .dataframe thead th {\n",
              "        text-align: right;\n",
              "    }\n",
              "</style>\n",
              "<table border=\"1\" class=\"dataframe\">\n",
              "  <thead>\n",
              "    <tr style=\"text-align: right;\">\n",
              "      <th></th>\n",
              "      <th>GDP</th>\n",
              "      <th>M1V</th>\n",
              "      <th>M2V</th>\n",
              "      <th>Unemp</th>\n",
              "      <th>infl</th>\n",
              "      <th>un</th>\n",
              "    </tr>\n",
              "    <tr>\n",
              "      <th>DATE</th>\n",
              "      <th></th>\n",
              "      <th></th>\n",
              "      <th></th>\n",
              "      <th></th>\n",
              "      <th></th>\n",
              "      <th></th>\n",
              "    </tr>\n",
              "  </thead>\n",
              "  <tbody>\n",
              "    <tr>\n",
              "      <th>1959-01-01</th>\n",
              "      <td>8.9</td>\n",
              "      <td>3.663</td>\n",
              "      <td>1.773</td>\n",
              "      <td>6.0</td>\n",
              "      <td>29.010</td>\n",
              "      <td>4068</td>\n",
              "    </tr>\n",
              "    <tr>\n",
              "      <th>1959-02-01</th>\n",
              "      <td>NaN</td>\n",
              "      <td>NaN</td>\n",
              "      <td>NaN</td>\n",
              "      <td>5.9</td>\n",
              "      <td>29.000</td>\n",
              "      <td>3965</td>\n",
              "    </tr>\n",
              "    <tr>\n",
              "      <th>1959-03-01</th>\n",
              "      <td>NaN</td>\n",
              "      <td>NaN</td>\n",
              "      <td>NaN</td>\n",
              "      <td>5.6</td>\n",
              "      <td>28.970</td>\n",
              "      <td>3801</td>\n",
              "    </tr>\n",
              "    <tr>\n",
              "      <th>1959-04-01</th>\n",
              "      <td>10.0</td>\n",
              "      <td>3.719</td>\n",
              "      <td>1.789</td>\n",
              "      <td>5.2</td>\n",
              "      <td>28.980</td>\n",
              "      <td>3571</td>\n",
              "    </tr>\n",
              "    <tr>\n",
              "      <th>1959-05-01</th>\n",
              "      <td>NaN</td>\n",
              "      <td>NaN</td>\n",
              "      <td>NaN</td>\n",
              "      <td>5.1</td>\n",
              "      <td>29.040</td>\n",
              "      <td>3479</td>\n",
              "    </tr>\n",
              "    <tr>\n",
              "      <th>...</th>\n",
              "      <td>...</td>\n",
              "      <td>...</td>\n",
              "      <td>...</td>\n",
              "      <td>...</td>\n",
              "      <td>...</td>\n",
              "      <td>...</td>\n",
              "    </tr>\n",
              "    <tr>\n",
              "      <th>2020-09-01</th>\n",
              "      <td>NaN</td>\n",
              "      <td>NaN</td>\n",
              "      <td>NaN</td>\n",
              "      <td>7.8</td>\n",
              "      <td>260.149</td>\n",
              "      <td>12535</td>\n",
              "    </tr>\n",
              "    <tr>\n",
              "      <th>2020-10-01</th>\n",
              "      <td>6.3</td>\n",
              "      <td>1.221</td>\n",
              "      <td>1.135</td>\n",
              "      <td>6.9</td>\n",
              "      <td>260.462</td>\n",
              "      <td>11049</td>\n",
              "    </tr>\n",
              "    <tr>\n",
              "      <th>2020-11-01</th>\n",
              "      <td>NaN</td>\n",
              "      <td>NaN</td>\n",
              "      <td>NaN</td>\n",
              "      <td>6.7</td>\n",
              "      <td>260.927</td>\n",
              "      <td>10728</td>\n",
              "    </tr>\n",
              "    <tr>\n",
              "      <th>2020-12-01</th>\n",
              "      <td>NaN</td>\n",
              "      <td>NaN</td>\n",
              "      <td>NaN</td>\n",
              "      <td>6.7</td>\n",
              "      <td>261.560</td>\n",
              "      <td>10736</td>\n",
              "    </tr>\n",
              "    <tr>\n",
              "      <th>2021-01-01</th>\n",
              "      <td>10.7</td>\n",
              "      <td>1.198</td>\n",
              "      <td>1.123</td>\n",
              "      <td>6.3</td>\n",
              "      <td>262.231</td>\n",
              "      <td>10130</td>\n",
              "    </tr>\n",
              "  </tbody>\n",
              "</table>\n",
              "<p>745 rows × 6 columns</p>\n",
              "</div>"
            ],
            "text/plain": [
              "             GDP    M1V    M2V  Unemp     infl     un\n",
              "DATE                                                 \n",
              "1959-01-01   8.9  3.663  1.773    6.0   29.010   4068\n",
              "1959-02-01   NaN    NaN    NaN    5.9   29.000   3965\n",
              "1959-03-01   NaN    NaN    NaN    5.6   28.970   3801\n",
              "1959-04-01  10.0  3.719  1.789    5.2   28.980   3571\n",
              "1959-05-01   NaN    NaN    NaN    5.1   29.040   3479\n",
              "...          ...    ...    ...    ...      ...    ...\n",
              "2020-09-01   NaN    NaN    NaN    7.8  260.149  12535\n",
              "2020-10-01   6.3  1.221  1.135    6.9  260.462  11049\n",
              "2020-11-01   NaN    NaN    NaN    6.7  260.927  10728\n",
              "2020-12-01   NaN    NaN    NaN    6.7  261.560  10736\n",
              "2021-01-01  10.7  1.198  1.123    6.3  262.231  10130\n",
              "\n",
              "[745 rows x 6 columns]"
            ]
          },
          "metadata": {
            "tags": []
          },
          "execution_count": 30
        }
      ]
    },
    {
      "cell_type": "markdown",
      "metadata": {
        "id": "W3_VzOSIlH9T"
      },
      "source": [
        "In df we combine variables at different frequencies. You can recognize the quarterly variables because they have NaN every pair of months between the official release."
      ]
    },
    {
      "cell_type": "code",
      "metadata": {
        "colab": {
          "base_uri": "https://localhost:8080/",
          "height": 455
        },
        "id": "YdcfzAgjkFcU",
        "outputId": "546c4f45-0462-4431-e93b-8c5f4f906f06"
      },
      "source": [
        "df_weekly"
      ],
      "execution_count": null,
      "outputs": [
        {
          "output_type": "execute_result",
          "data": {
            "text/html": [
              "<div>\n",
              "<style scoped>\n",
              "    .dataframe tbody tr th:only-of-type {\n",
              "        vertical-align: middle;\n",
              "    }\n",
              "\n",
              "    .dataframe tbody tr th {\n",
              "        vertical-align: top;\n",
              "    }\n",
              "\n",
              "    .dataframe thead th {\n",
              "        text-align: right;\n",
              "    }\n",
              "</style>\n",
              "<table border=\"1\" class=\"dataframe\">\n",
              "  <thead>\n",
              "    <tr style=\"text-align: right;\">\n",
              "      <th></th>\n",
              "      <th>claims</th>\n",
              "    </tr>\n",
              "    <tr>\n",
              "      <th>DATE</th>\n",
              "      <th></th>\n",
              "    </tr>\n",
              "  </thead>\n",
              "  <tbody>\n",
              "    <tr>\n",
              "      <th>1967-01-07</th>\n",
              "      <td>208000</td>\n",
              "    </tr>\n",
              "    <tr>\n",
              "      <th>1967-01-14</th>\n",
              "      <td>207000</td>\n",
              "    </tr>\n",
              "    <tr>\n",
              "      <th>1967-01-21</th>\n",
              "      <td>217000</td>\n",
              "    </tr>\n",
              "    <tr>\n",
              "      <th>1967-01-28</th>\n",
              "      <td>204000</td>\n",
              "    </tr>\n",
              "    <tr>\n",
              "      <th>1967-02-04</th>\n",
              "      <td>216000</td>\n",
              "    </tr>\n",
              "    <tr>\n",
              "      <th>...</th>\n",
              "      <td>...</td>\n",
              "    </tr>\n",
              "    <tr>\n",
              "      <th>2021-01-02</th>\n",
              "      <td>781000</td>\n",
              "    </tr>\n",
              "    <tr>\n",
              "      <th>2021-01-09</th>\n",
              "      <td>904000</td>\n",
              "    </tr>\n",
              "    <tr>\n",
              "      <th>2021-01-16</th>\n",
              "      <td>886000</td>\n",
              "    </tr>\n",
              "    <tr>\n",
              "      <th>2021-01-23</th>\n",
              "      <td>836000</td>\n",
              "    </tr>\n",
              "    <tr>\n",
              "      <th>2021-01-30</th>\n",
              "      <td>837000</td>\n",
              "    </tr>\n",
              "  </tbody>\n",
              "</table>\n",
              "<p>2822 rows × 1 columns</p>\n",
              "</div>"
            ],
            "text/plain": [
              "            claims\n",
              "DATE              \n",
              "1967-01-07  208000\n",
              "1967-01-14  207000\n",
              "1967-01-21  217000\n",
              "1967-01-28  204000\n",
              "1967-02-04  216000\n",
              "...            ...\n",
              "2021-01-02  781000\n",
              "2021-01-09  904000\n",
              "2021-01-16  886000\n",
              "2021-01-23  836000\n",
              "2021-01-30  837000\n",
              "\n",
              "[2822 rows x 1 columns]"
            ]
          },
          "metadata": {
            "tags": []
          },
          "execution_count": 31
        }
      ]
    },
    {
      "cell_type": "markdown",
      "metadata": {
        "id": "_eIA4hNpmAeG"
      },
      "source": [
        "We now aggregate by averaging consecutive 4 weekly claims in order to get a monthly measure. This is a technique you would like to master if you work with time series data:"
      ]
    },
    {
      "cell_type": "code",
      "metadata": {
        "id": "2YZfXhVnmVi3"
      },
      "source": [
        "claims = np.zeros(705)\n",
        "\n",
        "for i in range(705):\n",
        "    claims[i] = np.mean(df_weekly.iloc[i*4:i*4+4])\n",
        "\n",
        "\n",
        "a = np.empty(40)\n",
        "a[:] = np.nan\n",
        "\n",
        "claims_data = np.hstack((a,claims))"
      ],
      "execution_count": null,
      "outputs": []
    },
    {
      "cell_type": "markdown",
      "metadata": {
        "id": "IDKdvq33mdhm"
      },
      "source": [
        "and then we insert in the original dataframe:"
      ]
    },
    {
      "cell_type": "code",
      "metadata": {
        "colab": {
          "base_uri": "https://localhost:8080/",
          "height": 455
        },
        "id": "xiFjyyK8mgEi",
        "outputId": "45a13faa-e149-4066-cdea-898c7bfc3caa"
      },
      "source": [
        "df.insert(loc=6, column='claims', value = claims_data)\n",
        "df"
      ],
      "execution_count": null,
      "outputs": [
        {
          "output_type": "execute_result",
          "data": {
            "text/html": [
              "<div>\n",
              "<style scoped>\n",
              "    .dataframe tbody tr th:only-of-type {\n",
              "        vertical-align: middle;\n",
              "    }\n",
              "\n",
              "    .dataframe tbody tr th {\n",
              "        vertical-align: top;\n",
              "    }\n",
              "\n",
              "    .dataframe thead th {\n",
              "        text-align: right;\n",
              "    }\n",
              "</style>\n",
              "<table border=\"1\" class=\"dataframe\">\n",
              "  <thead>\n",
              "    <tr style=\"text-align: right;\">\n",
              "      <th></th>\n",
              "      <th>GDP</th>\n",
              "      <th>M1V</th>\n",
              "      <th>M2V</th>\n",
              "      <th>Unemp</th>\n",
              "      <th>infl</th>\n",
              "      <th>un</th>\n",
              "      <th>claims</th>\n",
              "    </tr>\n",
              "    <tr>\n",
              "      <th>DATE</th>\n",
              "      <th></th>\n",
              "      <th></th>\n",
              "      <th></th>\n",
              "      <th></th>\n",
              "      <th></th>\n",
              "      <th></th>\n",
              "      <th></th>\n",
              "    </tr>\n",
              "  </thead>\n",
              "  <tbody>\n",
              "    <tr>\n",
              "      <th>1959-01-01</th>\n",
              "      <td>8.9</td>\n",
              "      <td>3.663</td>\n",
              "      <td>1.773</td>\n",
              "      <td>6.0</td>\n",
              "      <td>29.010</td>\n",
              "      <td>4068</td>\n",
              "      <td>NaN</td>\n",
              "    </tr>\n",
              "    <tr>\n",
              "      <th>1959-02-01</th>\n",
              "      <td>NaN</td>\n",
              "      <td>NaN</td>\n",
              "      <td>NaN</td>\n",
              "      <td>5.9</td>\n",
              "      <td>29.000</td>\n",
              "      <td>3965</td>\n",
              "      <td>NaN</td>\n",
              "    </tr>\n",
              "    <tr>\n",
              "      <th>1959-03-01</th>\n",
              "      <td>NaN</td>\n",
              "      <td>NaN</td>\n",
              "      <td>NaN</td>\n",
              "      <td>5.6</td>\n",
              "      <td>28.970</td>\n",
              "      <td>3801</td>\n",
              "      <td>NaN</td>\n",
              "    </tr>\n",
              "    <tr>\n",
              "      <th>1959-04-01</th>\n",
              "      <td>10.0</td>\n",
              "      <td>3.719</td>\n",
              "      <td>1.789</td>\n",
              "      <td>5.2</td>\n",
              "      <td>28.980</td>\n",
              "      <td>3571</td>\n",
              "      <td>NaN</td>\n",
              "    </tr>\n",
              "    <tr>\n",
              "      <th>1959-05-01</th>\n",
              "      <td>NaN</td>\n",
              "      <td>NaN</td>\n",
              "      <td>NaN</td>\n",
              "      <td>5.1</td>\n",
              "      <td>29.040</td>\n",
              "      <td>3479</td>\n",
              "      <td>NaN</td>\n",
              "    </tr>\n",
              "    <tr>\n",
              "      <th>...</th>\n",
              "      <td>...</td>\n",
              "      <td>...</td>\n",
              "      <td>...</td>\n",
              "      <td>...</td>\n",
              "      <td>...</td>\n",
              "      <td>...</td>\n",
              "      <td>...</td>\n",
              "    </tr>\n",
              "    <tr>\n",
              "      <th>2020-09-01</th>\n",
              "      <td>NaN</td>\n",
              "      <td>NaN</td>\n",
              "      <td>NaN</td>\n",
              "      <td>7.8</td>\n",
              "      <td>260.149</td>\n",
              "      <td>12535</td>\n",
              "      <td>851000.0</td>\n",
              "    </tr>\n",
              "    <tr>\n",
              "      <th>2020-10-01</th>\n",
              "      <td>6.3</td>\n",
              "      <td>1.221</td>\n",
              "      <td>1.135</td>\n",
              "      <td>6.9</td>\n",
              "      <td>260.462</td>\n",
              "      <td>11049</td>\n",
              "      <td>795250.0</td>\n",
              "    </tr>\n",
              "    <tr>\n",
              "      <th>2020-11-01</th>\n",
              "      <td>NaN</td>\n",
              "      <td>NaN</td>\n",
              "      <td>NaN</td>\n",
              "      <td>6.7</td>\n",
              "      <td>260.927</td>\n",
              "      <td>10728</td>\n",
              "      <td>746750.0</td>\n",
              "    </tr>\n",
              "    <tr>\n",
              "      <th>2020-12-01</th>\n",
              "      <td>NaN</td>\n",
              "      <td>NaN</td>\n",
              "      <td>NaN</td>\n",
              "      <td>6.7</td>\n",
              "      <td>261.560</td>\n",
              "      <td>10736</td>\n",
              "      <td>812000.0</td>\n",
              "    </tr>\n",
              "    <tr>\n",
              "      <th>2021-01-01</th>\n",
              "      <td>10.7</td>\n",
              "      <td>1.198</td>\n",
              "      <td>1.123</td>\n",
              "      <td>6.3</td>\n",
              "      <td>262.231</td>\n",
              "      <td>10130</td>\n",
              "      <td>833500.0</td>\n",
              "    </tr>\n",
              "  </tbody>\n",
              "</table>\n",
              "<p>745 rows × 7 columns</p>\n",
              "</div>"
            ],
            "text/plain": [
              "             GDP    M1V    M2V  Unemp     infl     un    claims\n",
              "DATE                                                           \n",
              "1959-01-01   8.9  3.663  1.773    6.0   29.010   4068       NaN\n",
              "1959-02-01   NaN    NaN    NaN    5.9   29.000   3965       NaN\n",
              "1959-03-01   NaN    NaN    NaN    5.6   28.970   3801       NaN\n",
              "1959-04-01  10.0  3.719  1.789    5.2   28.980   3571       NaN\n",
              "1959-05-01   NaN    NaN    NaN    5.1   29.040   3479       NaN\n",
              "...          ...    ...    ...    ...      ...    ...       ...\n",
              "2020-09-01   NaN    NaN    NaN    7.8  260.149  12535  851000.0\n",
              "2020-10-01   6.3  1.221  1.135    6.9  260.462  11049  795250.0\n",
              "2020-11-01   NaN    NaN    NaN    6.7  260.927  10728  746750.0\n",
              "2020-12-01   NaN    NaN    NaN    6.7  261.560  10736  812000.0\n",
              "2021-01-01  10.7  1.198  1.123    6.3  262.231  10130  833500.0\n",
              "\n",
              "[745 rows x 7 columns]"
            ]
          },
          "metadata": {
            "tags": []
          },
          "execution_count": 33
        }
      ]
    },
    {
      "cell_type": "markdown",
      "metadata": {
        "id": "n99hOUo7m9to"
      },
      "source": [
        "We created a dataframe combining quarterly, monthly and weekly variables. We can combine any time frequency with these techniques.\n",
        "\n",
        "In the next line of code we will implement a *quarterly log difference* (using numpy functions) over the columns of df, except for GDP that already represents a quarterly change:"
      ]
    },
    {
      "cell_type": "code",
      "metadata": {
        "colab": {
          "base_uri": "https://localhost:8080/"
        },
        "id": "BOOg2vhOno90",
        "outputId": "075e9441-aeab-48eb-e394-c10aec45cd3a"
      },
      "source": [
        "def diff_quart(x):\n",
        "    return np.log(x[3:]) - np.log(x[:-3])\n",
        "dff = df.to_numpy()\n",
        "data = np.zeros((df.shape[0]-3,df.shape[1]))\n",
        "for k in range(df.shape[1]):\n",
        "    data[:,k] = diff_quart(dff[:,k])\n",
        "\n",
        "df_final = pd.DataFrame(data, columns=list(df.columns), index=df.index[3:])\n",
        "df_final.GDP = df.GDP.iloc[3:]"
      ],
      "execution_count": null,
      "outputs": [
        {
          "output_type": "stream",
          "text": [
            "/usr/local/lib/python3.7/dist-packages/ipykernel_launcher.py:2: RuntimeWarning: invalid value encountered in log\n",
            "  \n"
          ],
          "name": "stderr"
        }
      ]
    },
    {
      "cell_type": "code",
      "metadata": {
        "colab": {
          "base_uri": "https://localhost:8080/",
          "height": 455
        },
        "id": "cZG4KHKCnwtk",
        "outputId": "e67ac73d-fc2f-4d63-88cc-1c19e5a0bd5f"
      },
      "source": [
        "df_final"
      ],
      "execution_count": null,
      "outputs": [
        {
          "output_type": "execute_result",
          "data": {
            "text/html": [
              "<div>\n",
              "<style scoped>\n",
              "    .dataframe tbody tr th:only-of-type {\n",
              "        vertical-align: middle;\n",
              "    }\n",
              "\n",
              "    .dataframe tbody tr th {\n",
              "        vertical-align: top;\n",
              "    }\n",
              "\n",
              "    .dataframe thead th {\n",
              "        text-align: right;\n",
              "    }\n",
              "</style>\n",
              "<table border=\"1\" class=\"dataframe\">\n",
              "  <thead>\n",
              "    <tr style=\"text-align: right;\">\n",
              "      <th></th>\n",
              "      <th>GDP</th>\n",
              "      <th>M1V</th>\n",
              "      <th>M2V</th>\n",
              "      <th>Unemp</th>\n",
              "      <th>infl</th>\n",
              "      <th>un</th>\n",
              "      <th>claims</th>\n",
              "    </tr>\n",
              "    <tr>\n",
              "      <th>DATE</th>\n",
              "      <th></th>\n",
              "      <th></th>\n",
              "      <th></th>\n",
              "      <th></th>\n",
              "      <th></th>\n",
              "      <th></th>\n",
              "      <th></th>\n",
              "    </tr>\n",
              "  </thead>\n",
              "  <tbody>\n",
              "    <tr>\n",
              "      <th>1959-04-01</th>\n",
              "      <td>10.0</td>\n",
              "      <td>0.015172</td>\n",
              "      <td>0.008984</td>\n",
              "      <td>-0.143101</td>\n",
              "      <td>-0.001035</td>\n",
              "      <td>-0.130306</td>\n",
              "      <td>NaN</td>\n",
              "    </tr>\n",
              "    <tr>\n",
              "      <th>1959-05-01</th>\n",
              "      <td>NaN</td>\n",
              "      <td>NaN</td>\n",
              "      <td>NaN</td>\n",
              "      <td>-0.145712</td>\n",
              "      <td>0.001378</td>\n",
              "      <td>-0.130761</td>\n",
              "      <td>NaN</td>\n",
              "    </tr>\n",
              "    <tr>\n",
              "      <th>1959-06-01</th>\n",
              "      <td>NaN</td>\n",
              "      <td>NaN</td>\n",
              "      <td>NaN</td>\n",
              "      <td>-0.113329</td>\n",
              "      <td>0.004821</td>\n",
              "      <td>-0.102996</td>\n",
              "      <td>NaN</td>\n",
              "    </tr>\n",
              "    <tr>\n",
              "      <th>1959-07-01</th>\n",
              "      <td>1.8</td>\n",
              "      <td>-0.002423</td>\n",
              "      <td>-0.008984</td>\n",
              "      <td>-0.019418</td>\n",
              "      <td>0.005849</td>\n",
              "      <td>-0.012115</td>\n",
              "      <td>NaN</td>\n",
              "    </tr>\n",
              "    <tr>\n",
              "      <th>1959-08-01</th>\n",
              "      <td>NaN</td>\n",
              "      <td>NaN</td>\n",
              "      <td>NaN</td>\n",
              "      <td>0.019418</td>\n",
              "      <td>0.004809</td>\n",
              "      <td>0.030850</td>\n",
              "      <td>NaN</td>\n",
              "    </tr>\n",
              "    <tr>\n",
              "      <th>...</th>\n",
              "      <td>...</td>\n",
              "      <td>...</td>\n",
              "      <td>...</td>\n",
              "      <td>...</td>\n",
              "      <td>...</td>\n",
              "      <td>...</td>\n",
              "      <td>...</td>\n",
              "    </tr>\n",
              "    <tr>\n",
              "      <th>2020-09-01</th>\n",
              "      <td>NaN</td>\n",
              "      <td>NaN</td>\n",
              "      <td>NaN</td>\n",
              "      <td>-0.352821</td>\n",
              "      <td>0.011082</td>\n",
              "      <td>-0.344870</td>\n",
              "      <td>-0.527027</td>\n",
              "    </tr>\n",
              "    <tr>\n",
              "      <th>2020-10-01</th>\n",
              "      <td>6.3</td>\n",
              "      <td>-0.021872</td>\n",
              "      <td>-0.011389</td>\n",
              "      <td>-0.390866</td>\n",
              "      <td>0.007159</td>\n",
              "      <td>-0.389316</td>\n",
              "      <td>-0.487995</td>\n",
              "    </tr>\n",
              "    <tr>\n",
              "      <th>2020-11-01</th>\n",
              "      <td>NaN</td>\n",
              "      <td>NaN</td>\n",
              "      <td>NaN</td>\n",
              "      <td>-0.226124</td>\n",
              "      <td>0.005442</td>\n",
              "      <td>-0.232939</td>\n",
              "      <td>-0.172678</td>\n",
              "    </tr>\n",
              "    <tr>\n",
              "      <th>2020-12-01</th>\n",
              "      <td>NaN</td>\n",
              "      <td>NaN</td>\n",
              "      <td>NaN</td>\n",
              "      <td>-0.152016</td>\n",
              "      <td>0.005409</td>\n",
              "      <td>-0.154922</td>\n",
              "      <td>-0.046912</td>\n",
              "    </tr>\n",
              "    <tr>\n",
              "      <th>2021-01-01</th>\n",
              "      <td>10.7</td>\n",
              "      <td>-0.019017</td>\n",
              "      <td>-0.010629</td>\n",
              "      <td>-0.090972</td>\n",
              "      <td>0.006769</td>\n",
              "      <td>-0.086839</td>\n",
              "      <td>0.046977</td>\n",
              "    </tr>\n",
              "  </tbody>\n",
              "</table>\n",
              "<p>742 rows × 7 columns</p>\n",
              "</div>"
            ],
            "text/plain": [
              "             GDP       M1V       M2V     Unemp      infl        un    claims\n",
              "DATE                                                                        \n",
              "1959-04-01  10.0  0.015172  0.008984 -0.143101 -0.001035 -0.130306       NaN\n",
              "1959-05-01   NaN       NaN       NaN -0.145712  0.001378 -0.130761       NaN\n",
              "1959-06-01   NaN       NaN       NaN -0.113329  0.004821 -0.102996       NaN\n",
              "1959-07-01   1.8 -0.002423 -0.008984 -0.019418  0.005849 -0.012115       NaN\n",
              "1959-08-01   NaN       NaN       NaN  0.019418  0.004809  0.030850       NaN\n",
              "...          ...       ...       ...       ...       ...       ...       ...\n",
              "2020-09-01   NaN       NaN       NaN -0.352821  0.011082 -0.344870 -0.527027\n",
              "2020-10-01   6.3 -0.021872 -0.011389 -0.390866  0.007159 -0.389316 -0.487995\n",
              "2020-11-01   NaN       NaN       NaN -0.226124  0.005442 -0.232939 -0.172678\n",
              "2020-12-01   NaN       NaN       NaN -0.152016  0.005409 -0.154922 -0.046912\n",
              "2021-01-01  10.7 -0.019017 -0.010629 -0.090972  0.006769 -0.086839  0.046977\n",
              "\n",
              "[742 rows x 7 columns]"
            ]
          },
          "metadata": {
            "tags": []
          },
          "execution_count": 35
        }
      ]
    },
    {
      "cell_type": "markdown",
      "metadata": {
        "id": "-uWYpD4imRP_"
      },
      "source": [
        "##Conclusion\n",
        "\n",
        "After this tutorial you learned about the basic concept of Pandas and you should be able to manage the programming of neural networks in Keras. For a more complete knowledge you can look at the official guideline."
      ]
    }
  ]
}