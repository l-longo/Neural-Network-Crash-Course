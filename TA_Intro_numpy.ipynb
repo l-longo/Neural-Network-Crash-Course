{
  "nbformat": 4,
  "nbformat_minor": 0,
  "metadata": {
    "colab": {
      "name": "TA_Intro_numpy.ipynb",
      "provenance": [],
      "collapsed_sections": [],
      "authorship_tag": "ABX9TyNdpPovEOtBrfpkMaFO+kJa",
      "include_colab_link": true
    },
    "kernelspec": {
      "name": "python3",
      "display_name": "Python 3"
    },
    "language_info": {
      "name": "python"
    }
  },
  "cells": [
    {
      "cell_type": "markdown",
      "metadata": {
        "id": "view-in-github",
        "colab_type": "text"
      },
      "source": [
        "<a href=\"https://colab.research.google.com/github/l-longo/neural-network-crash-course/blob/main/TA_Intro_numpy.ipynb\" target=\"_parent\"><img src=\"https://colab.research.google.com/assets/colab-badge.svg\" alt=\"Open In Colab\"/></a>"
      ]
    },
    {
      "cell_type": "markdown",
      "metadata": {
        "id": "L8MAdUlZ3tsA"
      },
      "source": [
        "#NumPy\n",
        "\n",
        "[NumPy](http://www.numpy.org/) is a fundamental package that allows efficient scientific computing in python.\n",
        "\n",
        "An `ndarray` object constitutes the core of numpy package. It is an $n$-dimensional array of homogenous data types.\n",
        "\n",
        "Every type of computation is faster with numpy because of ***vectorization***: operations are applied to whole arrays instead of individual elements. With this regard, numpy uses broadcasting, i.e. element-by-element operations.\n",
        "\n",
        "The fundamental difference between a `list` and an `ndarray` is that the former can contain different data types. Numpy is more efficient because stores less memory and allow more compact operations, by specifying homogenous data types."
      ]
    },
    {
      "cell_type": "code",
      "metadata": {
        "id": "x6RmYSjBxgbO",
        "colab": {
          "base_uri": "https://localhost:8080/"
        },
        "outputId": "d2786b4f-fe3e-4990-b5b5-182b5607931f"
      },
      "source": [
        "import numpy as np\n",
        "print(np.__version__)"
      ],
      "execution_count": null,
      "outputs": [
        {
          "output_type": "stream",
          "text": [
            "1.19.5\n"
          ],
          "name": "stdout"
        }
      ]
    },
    {
      "cell_type": "markdown",
      "metadata": {
        "id": "Z3rCNmYLxnBc"
      },
      "source": [
        "\n",
        "With the above code we imported the numpy library. Note that you may have to first install it if you use jupyter or other python console. You can do this with the command `pip install numpy`. We also print the version of numpy we are just using.\n",
        "\n",
        "##Array creation:\n",
        "Let's get started with array creation by using the command `np.array()` that converts a `list` in an `ndarray`:"
      ]
    },
    {
      "cell_type": "code",
      "metadata": {
        "colab": {
          "base_uri": "https://localhost:8080/"
        },
        "id": "lLNHgpeV4w6a",
        "outputId": "36ae39da-1db4-4ce0-eb55-0c4b168c4951"
      },
      "source": [
        "a = np.array([1, 2, 3, 4]) \n",
        "print('a:')\n",
        "print(a)\n",
        "b = np.array(([1, 2, 3, 4],[5, 6, 7, 8],[9, 10, 11, 12])) #combining more lists in a 2-dimensional array\n",
        "print('\\n')\n",
        "print('b:')\n",
        "print(b)"
      ],
      "execution_count": null,
      "outputs": [
        {
          "output_type": "stream",
          "text": [
            "a:\n",
            "[1 2 3 4]\n",
            "\n",
            "\n",
            "b:\n",
            "[[ 1  2  3  4]\n",
            " [ 5  6  7  8]\n",
            " [ 9 10 11 12]]\n"
          ],
          "name": "stdout"
        }
      ]
    },
    {
      "cell_type": "markdown",
      "metadata": {
        "id": "TmzsFl0MxinE"
      },
      "source": [
        "* $a$ is a 1-dimensional array\n",
        "* $b$ is a 2-dimensional array that is created from a list of lists and can be seen as a matrix\n",
        "\n",
        "A 3-dimensional array is created from 2-dimensional arrays nested in another list:\n",
        "\n",
        "\n",
        "\n"
      ]
    },
    {
      "cell_type": "code",
      "metadata": {
        "colab": {
          "base_uri": "https://localhost:8080/"
        },
        "id": "62CAEd3qGxB3",
        "outputId": "7eb94c39-ce42-4e57-8def-9a0b2171ec6a"
      },
      "source": [
        "c = np.array([b,b])\n",
        "print(c)"
      ],
      "execution_count": null,
      "outputs": [
        {
          "output_type": "stream",
          "text": [
            "[[[ 1  2  3  4]\n",
            "  [ 5  6  7  8]\n",
            "  [ 9 10 11 12]]\n",
            "\n",
            " [[ 1  2  3  4]\n",
            "  [ 5  6  7  8]\n",
            "  [ 9 10 11 12]]]\n"
          ],
          "name": "stdout"
        }
      ]
    },
    {
      "cell_type": "markdown",
      "metadata": {
        "id": "xb_XvQRl1Vo5"
      },
      "source": [
        "###Intrinsic array creation\n",
        "\n",
        "We created arrays from list so far. Now we create arrays from scratch:\n",
        "\n",
        "* `np.linspace(g,h,N)` creates a 1-D array with $N$ values equally spaced from $g$ to $h$;\n",
        "* `np.arange(N)` creates a 1-D array of N values (size of the array);\n",
        "\n",
        "* `np.zeros(N)` creates a 1-D array of N zeros;\n",
        "\n",
        "* `np.ones(N)` creates a 1-D array of N ones;\n",
        "\n",
        "* `np.zeros((m,k))` creates a 2-D array of zeros with $m$ rows and $k$ columns;\n",
        "\n",
        "* `np.ones((m,k))` creates a 2-D array of ones with $m$ rows and $k$ columns;\n",
        "\n",
        "* `np.eye(N)` creates a 2-D array with $N$ rows and $N$ columns with ones on the diagonal and zero otherwise (identity matrix of size $N$).\n",
        "\n"
      ]
    },
    {
      "cell_type": "code",
      "metadata": {
        "colab": {
          "base_uri": "https://localhost:8080/"
        },
        "id": "TFEX4hv79lDy",
        "outputId": "e4968275-fcb3-4600-91f9-5f9dcaf1f446"
      },
      "source": [
        "array_eq = np.linspace(1,9,10)\n",
        "print(array_eq)"
      ],
      "execution_count": null,
      "outputs": [
        {
          "output_type": "stream",
          "text": [
            "[1.         1.88888889 2.77777778 3.66666667 4.55555556 5.44444444\n",
            " 6.33333333 7.22222222 8.11111111 9.        ]\n"
          ],
          "name": "stdout"
        }
      ]
    },
    {
      "cell_type": "code",
      "metadata": {
        "colab": {
          "base_uri": "https://localhost:8080/"
        },
        "id": "siPR3fUc-zVG",
        "outputId": "4b6ea818-fef4-41c9-829c-0ebcb7d8fe76"
      },
      "source": [
        "array_ar = np.arange(10)\n",
        "print(array_ar)"
      ],
      "execution_count": null,
      "outputs": [
        {
          "output_type": "stream",
          "text": [
            "[0 1 2 3 4 5 6 7 8 9]\n"
          ],
          "name": "stdout"
        }
      ]
    },
    {
      "cell_type": "code",
      "metadata": {
        "colab": {
          "base_uri": "https://localhost:8080/"
        },
        "id": "VvRYcfNz-z_b",
        "outputId": "88b6bb7f-3d62-4ec2-b808-9e86e3b6a75b"
      },
      "source": [
        "zeros = np.zeros(10)\n",
        "print(zeros)"
      ],
      "execution_count": null,
      "outputs": [
        {
          "output_type": "stream",
          "text": [
            "[0. 0. 0. 0. 0. 0. 0. 0. 0. 0.]\n"
          ],
          "name": "stdout"
        }
      ]
    },
    {
      "cell_type": "code",
      "metadata": {
        "colab": {
          "base_uri": "https://localhost:8080/"
        },
        "id": "_gHcxq7e_hWW",
        "outputId": "40710cf5-1f5d-452d-e4b1-27779f5d9d07"
      },
      "source": [
        "ones = np.ones(10)\n",
        "print(ones)"
      ],
      "execution_count": null,
      "outputs": [
        {
          "output_type": "stream",
          "text": [
            "[1. 1. 1. 1. 1. 1. 1. 1. 1. 1.]\n"
          ],
          "name": "stdout"
        }
      ]
    },
    {
      "cell_type": "code",
      "metadata": {
        "colab": {
          "base_uri": "https://localhost:8080/"
        },
        "id": "AyladIjF_kmd",
        "outputId": "f905856e-b358-4d81-c014-95d2cadaa6da"
      },
      "source": [
        "zeros1 = np.zeros((5,10))\n",
        "print(zeros1)"
      ],
      "execution_count": null,
      "outputs": [
        {
          "output_type": "stream",
          "text": [
            "[[0. 0. 0. 0. 0. 0. 0. 0. 0. 0.]\n",
            " [0. 0. 0. 0. 0. 0. 0. 0. 0. 0.]\n",
            " [0. 0. 0. 0. 0. 0. 0. 0. 0. 0.]\n",
            " [0. 0. 0. 0. 0. 0. 0. 0. 0. 0.]\n",
            " [0. 0. 0. 0. 0. 0. 0. 0. 0. 0.]]\n"
          ],
          "name": "stdout"
        }
      ]
    },
    {
      "cell_type": "code",
      "metadata": {
        "colab": {
          "base_uri": "https://localhost:8080/"
        },
        "id": "Dmsqba20_qTA",
        "outputId": "1e51bfa2-ab7d-4615-d3a7-0edceac3b0da"
      },
      "source": [
        "ones1 = np.ones((5,10))\n",
        "print(ones1)"
      ],
      "execution_count": null,
      "outputs": [
        {
          "output_type": "stream",
          "text": [
            "[[1. 1. 1. 1. 1. 1. 1. 1. 1. 1.]\n",
            " [1. 1. 1. 1. 1. 1. 1. 1. 1. 1.]\n",
            " [1. 1. 1. 1. 1. 1. 1. 1. 1. 1.]\n",
            " [1. 1. 1. 1. 1. 1. 1. 1. 1. 1.]\n",
            " [1. 1. 1. 1. 1. 1. 1. 1. 1. 1.]]\n"
          ],
          "name": "stdout"
        }
      ]
    },
    {
      "cell_type": "code",
      "metadata": {
        "id": "Hlpk27GpApgY"
      },
      "source": [
        "I = np.eye(10)"
      ],
      "execution_count": null,
      "outputs": []
    },
    {
      "cell_type": "markdown",
      "metadata": {
        "id": "SkwSvd6y4t1E"
      },
      "source": [
        "We can also create arrays with NaN values:"
      ]
    },
    {
      "cell_type": "code",
      "metadata": {
        "colab": {
          "base_uri": "https://localhost:8080/"
        },
        "id": "hZGiThLX4tLL",
        "outputId": "43cc4aa0-8b15-4a91-ccde-b113d028dcb4"
      },
      "source": [
        "nan = np.empty(10)\n",
        "nan[:] = np.nan\n",
        "print(nan)"
      ],
      "execution_count": null,
      "outputs": [
        {
          "output_type": "stream",
          "text": [
            "[nan nan nan nan nan nan nan nan nan nan]\n"
          ],
          "name": "stdout"
        }
      ]
    },
    {
      "cell_type": "code",
      "metadata": {
        "colab": {
          "base_uri": "https://localhost:8080/"
        },
        "id": "Axx5onaQ5OK5",
        "outputId": "b5f4f0f5-c77b-43d4-82e7-de1828704845"
      },
      "source": [
        "nan1 = np.empty((5,5))\n",
        "nan1[:] = np.nan\n",
        "print(nan1)"
      ],
      "execution_count": null,
      "outputs": [
        {
          "output_type": "stream",
          "text": [
            "[[nan nan nan nan nan]\n",
            " [nan nan nan nan nan]\n",
            " [nan nan nan nan nan]\n",
            " [nan nan nan nan nan]\n",
            " [nan nan nan nan nan]]\n"
          ],
          "name": "stdout"
        }
      ]
    },
    {
      "cell_type": "markdown",
      "metadata": {
        "id": "XtGYBCgOaQ0w"
      },
      "source": [
        "both 1-D and 2-D.\n",
        "\n",
        "## Random number generator\n",
        "\n",
        "In order to deal with random number generator we import the package `random` from the numpy library:"
      ]
    },
    {
      "cell_type": "code",
      "metadata": {
        "id": "8G13XxLMbpEq"
      },
      "source": [
        "from numpy import random"
      ],
      "execution_count": null,
      "outputs": []
    },
    {
      "cell_type": "markdown",
      "metadata": {
        "id": "uy-k4Az-byd3"
      },
      "source": [
        "* `random.randint(N)` returns a random integer from 0 to $N$;\n",
        "\n",
        "* `random.rand()` returns a random float from 0 to 1.\n"
      ]
    },
    {
      "cell_type": "code",
      "metadata": {
        "colab": {
          "base_uri": "https://localhost:8080/"
        },
        "id": "cszJrafHdh6x",
        "outputId": "a6a89b14-6350-46ab-ce06-9be59931e603"
      },
      "source": [
        "r_int = random.randint(10)\n",
        "r_float = random.rand()\n",
        "\n",
        "print(r_int)\n",
        "print(r_float)"
      ],
      "execution_count": null,
      "outputs": [
        {
          "output_type": "stream",
          "text": [
            "4\n",
            "0.30642792096806626\n"
          ],
          "name": "stdout"
        }
      ]
    },
    {
      "cell_type": "markdown",
      "metadata": {
        "id": "8DNcpOwddyvv"
      },
      "source": [
        "We can access the datatype of single values with the command `type()`:"
      ]
    },
    {
      "cell_type": "code",
      "metadata": {
        "colab": {
          "base_uri": "https://localhost:8080/"
        },
        "id": "rKZlXrf4bxZz",
        "outputId": "10bd738b-2ec4-4d62-c2e2-1f3c69c920ed"
      },
      "source": [
        "print(type(r_int))\n",
        "print(type(r_float))"
      ],
      "execution_count": null,
      "outputs": [
        {
          "output_type": "stream",
          "text": [
            "<class 'int'>\n",
            "<class 'float'>\n"
          ],
          "name": "stdout"
        }
      ]
    },
    {
      "cell_type": "markdown",
      "metadata": {
        "id": "dPactVYUe2_1"
      },
      "source": [
        "We can generate arrays of random values with the command `randint` and `rand`:"
      ]
    },
    {
      "cell_type": "code",
      "metadata": {
        "colab": {
          "base_uri": "https://localhost:8080/"
        },
        "id": "iutfRz6ffNQh",
        "outputId": "df367a95-e754-423d-f47e-244c223ae659"
      },
      "source": [
        "r1 = random.randint(10, size=(3, 5))\n",
        "print(r1)"
      ],
      "execution_count": null,
      "outputs": [
        {
          "output_type": "stream",
          "text": [
            "[[4 8 2 4 1]\n",
            " [9 5 7 4 1]\n",
            " [2 5 5 0 8]]\n"
          ],
          "name": "stdout"
        }
      ]
    },
    {
      "cell_type": "markdown",
      "metadata": {
        "id": "J40ANRVrffRa"
      },
      "source": [
        "We generated a 2-D array with sizes 3 and 5 and values of random integer between 0 and 10."
      ]
    },
    {
      "cell_type": "code",
      "metadata": {
        "colab": {
          "base_uri": "https://localhost:8080/"
        },
        "id": "E9HJGnoCgo4k",
        "outputId": "c0a56440-a039-4eba-a6d5-a06f7c10dfd9"
      },
      "source": [
        "r2 = random.rand(3,5)\n",
        "print(r2)"
      ],
      "execution_count": null,
      "outputs": [
        {
          "output_type": "stream",
          "text": [
            "[[0.97158925 0.4261574  0.21430886 0.4349311  0.65853235]\n",
            " [0.6152668  0.71804872 0.28164187 0.23444046 0.64629005]\n",
            " [0.16732008 0.13800897 0.75076149 0.87308107 0.32077934]]\n"
          ],
          "name": "stdout"
        }
      ]
    },
    {
      "cell_type": "markdown",
      "metadata": {
        "id": "348-bC9RheyP"
      },
      "source": [
        "We generated a 2-D array of dimensions 3 and 5 containing random floats.\n",
        "\n",
        "We can access the data type of an array with the command `dtype`:"
      ]
    },
    {
      "cell_type": "code",
      "metadata": {
        "colab": {
          "base_uri": "https://localhost:8080/"
        },
        "id": "h5morod3iDAM",
        "outputId": "6c175125-b160-4b39-df66-ef3dffa12ece"
      },
      "source": [
        "print(r1.dtype)\n",
        "print(r2.dtype)"
      ],
      "execution_count": null,
      "outputs": [
        {
          "output_type": "stream",
          "text": [
            "int64\n",
            "float64\n"
          ],
          "name": "stdout"
        }
      ]
    },
    {
      "cell_type": "markdown",
      "metadata": {
        "id": "Tjh5qwNF55WS"
      },
      "source": [
        "## Stacking vector\n",
        "\n",
        "Concatenating different arrays is a very useful and common practice in data science. Let's say we want to horizzontally concatenate two matrices with the same number of rows:"
      ]
    },
    {
      "cell_type": "code",
      "metadata": {
        "colab": {
          "base_uri": "https://localhost:8080/"
        },
        "id": "RvPJTHDD54sw",
        "outputId": "bc334baa-d74a-4616-d09f-02adba23f783"
      },
      "source": [
        "stack_h = np.hstack((r1,r2))\n",
        "print(stack_h)"
      ],
      "execution_count": null,
      "outputs": [
        {
          "output_type": "stream",
          "text": [
            "[[4.         8.         2.         4.         1.         0.97158925\n",
            "  0.4261574  0.21430886 0.4349311  0.65853235]\n",
            " [9.         5.         7.         4.         1.         0.6152668\n",
            "  0.71804872 0.28164187 0.23444046 0.64629005]\n",
            " [2.         5.         5.         0.         8.         0.16732008\n",
            "  0.13800897 0.75076149 0.87308107 0.32077934]]\n"
          ],
          "name": "stdout"
        }
      ]
    },
    {
      "cell_type": "markdown",
      "metadata": {
        "id": "KD_WqUVy6hs_"
      },
      "source": [
        "and we can do the same vertically if the matrices have the same number of columns:"
      ]
    },
    {
      "cell_type": "code",
      "metadata": {
        "colab": {
          "base_uri": "https://localhost:8080/"
        },
        "id": "TkfUlbQ76gve",
        "outputId": "113fbb5c-528a-4a7f-a8f4-79f264333b59"
      },
      "source": [
        "stack_v = np.vstack((r1,r2))\n",
        "print(stack_v)"
      ],
      "execution_count": null,
      "outputs": [
        {
          "output_type": "stream",
          "text": [
            "[[4.         8.         2.         4.         1.        ]\n",
            " [9.         5.         7.         4.         1.        ]\n",
            " [2.         5.         5.         0.         8.        ]\n",
            " [0.97158925 0.4261574  0.21430886 0.4349311  0.65853235]\n",
            " [0.6152668  0.71804872 0.28164187 0.23444046 0.64629005]\n",
            " [0.16732008 0.13800897 0.75076149 0.87308107 0.32077934]]\n"
          ],
          "name": "stdout"
        }
      ]
    },
    {
      "cell_type": "markdown",
      "metadata": {
        "id": "8YuSyjv7F7Pf"
      },
      "source": [
        "##Access array elements\n",
        "Once array is created we want to access its elements (keep in mind that indexing start with 0 in python):"
      ]
    },
    {
      "cell_type": "code",
      "metadata": {
        "colab": {
          "base_uri": "https://localhost:8080/"
        },
        "id": "SE23ST9T7yV9",
        "outputId": "703c8aca-cdfe-4cce-df43-c9437b891034"
      },
      "source": [
        "print(a[0])\n",
        "print('\\n')\n",
        "print(a[1:])\n"
      ],
      "execution_count": null,
      "outputs": [
        {
          "output_type": "stream",
          "text": [
            "1\n",
            "\n",
            "\n",
            "[2 3 4]\n"
          ],
          "name": "stdout"
        }
      ]
    },
    {
      "cell_type": "markdown",
      "metadata": {
        "id": "_Vx0Z_lo-oxT"
      },
      "source": [
        "When we access an array we talk about *indexing* and *slicing*:\n",
        "* indexing consists in accessing entries of the array;\n",
        "* slicing consists in accessing rows/columns (subarrays) of the array.\n",
        "\n",
        "let's use the 2-dimensional array we created before:"
      ]
    },
    {
      "cell_type": "code",
      "metadata": {
        "colab": {
          "base_uri": "https://localhost:8080/"
        },
        "id": "GFVlsn9NCtGC",
        "outputId": "a2861a4b-b7e3-40ed-af28-2899ab2b2f25"
      },
      "source": [
        "print(b)"
      ],
      "execution_count": null,
      "outputs": [
        {
          "output_type": "stream",
          "text": [
            "[[ 1  2  3  4]\n",
            " [ 5  6  7  8]\n",
            " [ 9 10 11 12]]\n"
          ],
          "name": "stdout"
        }
      ]
    },
    {
      "cell_type": "markdown",
      "metadata": {
        "id": "24Z3pc_MCydy"
      },
      "source": [
        "Now we access row indexed 1 and column indexed 2 of the 2-dimensional array b:"
      ]
    },
    {
      "cell_type": "code",
      "metadata": {
        "colab": {
          "base_uri": "https://localhost:8080/"
        },
        "id": "1OaRSySL_3M1",
        "outputId": "4623002f-2a98-4b62-f92c-da1a0af85ec2"
      },
      "source": [
        "print(b[1,2])"
      ],
      "execution_count": null,
      "outputs": [
        {
          "output_type": "stream",
          "text": [
            "7\n"
          ],
          "name": "stdout"
        }
      ]
    },
    {
      "cell_type": "markdown",
      "metadata": {
        "id": "Fozbzhm4AiHE"
      },
      "source": [
        "We can also access subarrays:"
      ]
    },
    {
      "cell_type": "code",
      "metadata": {
        "colab": {
          "base_uri": "https://localhost:8080/"
        },
        "id": "2_paZpIpAkuy",
        "outputId": "a5b36698-3881-43ad-d359-58b8ae174b07"
      },
      "source": [
        "print(b[0,:])\n",
        "print('\\n')\n",
        "print(b[:,1])"
      ],
      "execution_count": null,
      "outputs": [
        {
          "output_type": "stream",
          "text": [
            "[1 2 3 4]\n",
            "\n",
            "\n",
            "[ 2  6 10]\n"
          ],
          "name": "stdout"
        }
      ]
    },
    {
      "cell_type": "markdown",
      "metadata": {
        "id": "we5MIUP3CcZg"
      },
      "source": [
        "Negative indexing can be used in numpy.\n",
        "\n",
        "Access top-right of the array b:"
      ]
    },
    {
      "cell_type": "code",
      "metadata": {
        "colab": {
          "base_uri": "https://localhost:8080/"
        },
        "id": "aM9BTjI3Cjni",
        "outputId": "7a03ba39-2af2-4909-8159-df2d6d621d95"
      },
      "source": [
        "print(b[-3,-1])"
      ],
      "execution_count": null,
      "outputs": [
        {
          "output_type": "stream",
          "text": [
            "4\n"
          ],
          "name": "stdout"
        }
      ]
    },
    {
      "cell_type": "markdown",
      "metadata": {
        "id": "5msuDBoYBPVS"
      },
      "source": [
        "##Accessing information on dimension/shape/size\n",
        "\n",
        "* `ndim` gives the dimension of the array;\n",
        "\n",
        "* `shape` gives the shape of the array;\n",
        "\n",
        "* `size` gives the size of the array (total number of elements).\n",
        "\n",
        "Let's consider the arrays we created before:\n"
      ]
    },
    {
      "cell_type": "code",
      "metadata": {
        "colab": {
          "base_uri": "https://localhost:8080/"
        },
        "id": "9dxZ4qfoJEdF",
        "outputId": "340e1b77-ceae-4efe-cd11-4100dfb30dae"
      },
      "source": [
        "print('a:')\n",
        "print(a)\n",
        "print('\\n')\n",
        "print('b:')\n",
        "print(b)\n",
        "print('\\n')\n",
        "print('c:')\n",
        "print(c)"
      ],
      "execution_count": null,
      "outputs": [
        {
          "output_type": "stream",
          "text": [
            "a:\n",
            "[1 2 3 4]\n",
            "\n",
            "\n",
            "b:\n",
            "[[ 1  2  3  4]\n",
            " [ 5  6  7  8]\n",
            " [ 9 10 11 12]]\n",
            "\n",
            "\n",
            "c:\n",
            "[[[ 1  2  3  4]\n",
            "  [ 5  6  7  8]\n",
            "  [ 9 10 11 12]]\n",
            "\n",
            " [[ 1  2  3  4]\n",
            "  [ 5  6  7  8]\n",
            "  [ 9 10 11 12]]]\n"
          ],
          "name": "stdout"
        }
      ]
    },
    {
      "cell_type": "code",
      "metadata": {
        "colab": {
          "base_uri": "https://localhost:8080/"
        },
        "id": "g_7kElrqJbo3",
        "outputId": "b25dc5b1-a483-4b79-e8f1-1647d2df8dae"
      },
      "source": [
        "print(a.ndim)\n",
        "\n",
        "print(b.ndim)\n",
        "\n",
        "print(c.ndim)\n"
      ],
      "execution_count": null,
      "outputs": [
        {
          "output_type": "stream",
          "text": [
            "1\n",
            "2\n",
            "3\n"
          ],
          "name": "stdout"
        }
      ]
    },
    {
      "cell_type": "code",
      "metadata": {
        "colab": {
          "base_uri": "https://localhost:8080/"
        },
        "id": "Zg_v0N-1KFv1",
        "outputId": "326a56cc-bca1-4133-8348-9e9ac2e6f445"
      },
      "source": [
        "print(a.shape)\n",
        "\n",
        "print(b.shape)\n",
        "\n",
        "print(c.shape)"
      ],
      "execution_count": null,
      "outputs": [
        {
          "output_type": "stream",
          "text": [
            "(4,)\n",
            "(3, 4)\n",
            "(2, 3, 4)\n"
          ],
          "name": "stdout"
        }
      ]
    },
    {
      "cell_type": "markdown",
      "metadata": {
        "id": "aN6fmccjKK6r"
      },
      "source": [
        "The shape returns the number of elements per each dimension.\n",
        "In a 2-D array shape gives the (number of row,number of columns).\n",
        "\n",
        "You can access to single shape by indexing.\n",
        "Number of rows for $b$ is given by:"
      ]
    },
    {
      "cell_type": "code",
      "metadata": {
        "colab": {
          "base_uri": "https://localhost:8080/"
        },
        "id": "HxP5SdtdKYIE",
        "outputId": "21602037-35e2-4c19-ad7a-69c926583fd1"
      },
      "source": [
        "print(b.shape[0])"
      ],
      "execution_count": null,
      "outputs": [
        {
          "output_type": "stream",
          "text": [
            "3\n"
          ],
          "name": "stdout"
        }
      ]
    },
    {
      "cell_type": "markdown",
      "metadata": {
        "id": "3U3a5FL2K6Zr"
      },
      "source": [
        "while number of columns by:"
      ]
    },
    {
      "cell_type": "code",
      "metadata": {
        "colab": {
          "base_uri": "https://localhost:8080/"
        },
        "id": "nNEJbtkSK5LY",
        "outputId": "fe757aa4-2840-43f2-a0f1-a82c2dd379c3"
      },
      "source": [
        "print(b.shape[1])"
      ],
      "execution_count": null,
      "outputs": [
        {
          "output_type": "stream",
          "text": [
            "4\n"
          ],
          "name": "stdout"
        }
      ]
    },
    {
      "cell_type": "markdown",
      "metadata": {
        "id": "wkGSW2dDiZwi"
      },
      "source": [
        "Notice that $a$ is a vector with no column dimension, indeed for python $a$ does not have a shape[1] because it is a 1-D array. This can be a problem if you want to concatenate it to a matrix, or if you want to apply linear algebra on it. Therefore you may want to use the command `np.resize(a,new shape)`:"
      ]
    },
    {
      "cell_type": "code",
      "metadata": {
        "colab": {
          "base_uri": "https://localhost:8080/"
        },
        "id": "Qgupf_fyiZDJ",
        "outputId": "b2c0ec72-852c-4d89-ec96-8b4cbfc70b3f"
      },
      "source": [
        "a_resized = np.resize(a,(a.shape[0],1))\n",
        "print(a_resized)\n",
        "print('\\n')\n",
        "print(a_resized.shape)"
      ],
      "execution_count": null,
      "outputs": [
        {
          "output_type": "stream",
          "text": [
            "[[1]\n",
            " [2]\n",
            " [3]\n",
            " [4]]\n",
            "(4, 1)\n"
          ],
          "name": "stdout"
        }
      ]
    },
    {
      "cell_type": "code",
      "metadata": {
        "colab": {
          "base_uri": "https://localhost:8080/"
        },
        "id": "iEEMsAuzMKlC",
        "outputId": "3346eaab-31bc-4097-e0c2-7797bd9cc6de"
      },
      "source": [
        "print(a.size)\n",
        "print(b.size)\n",
        "print(c.size)"
      ],
      "execution_count": null,
      "outputs": [
        {
          "output_type": "stream",
          "text": [
            "4\n",
            "12\n",
            "24\n"
          ],
          "name": "stdout"
        }
      ]
    },
    {
      "cell_type": "markdown",
      "metadata": {
        "id": "qzJ_kStsMw8z"
      },
      "source": [
        "The size is the total number of elements. It is the same of shape for 1-D array, while consists in the product of the shape over the dimension for an N-D array."
      ]
    },
    {
      "cell_type": "code",
      "metadata": {
        "colab": {
          "base_uri": "https://localhost:8080/"
        },
        "id": "LyQycWMfMwMF",
        "outputId": "cf6c5d79-d955-4aac-cec1-a29d27b11b75"
      },
      "source": [
        "print(len(a))\n",
        "print(len(b))\n",
        "print(len(c))"
      ],
      "execution_count": null,
      "outputs": [
        {
          "output_type": "stream",
          "text": [
            "4\n",
            "3\n",
            "2\n"
          ],
          "name": "stdout"
        }
      ]
    },
    {
      "cell_type": "markdown",
      "metadata": {
        "id": "5FyhI49mNob-"
      },
      "source": [
        "`len()` gives the size of the first dimension and it is the shape and size of a 1-D array and the number of rows of a matrix (2-D array).\n",
        "\n",
        "## Statistical operations\n",
        "\n",
        "Statistical operations represent the core functions in the numpy package to perform preliminary data analysis. We now have a look at the main functions. For further details you can look at [Statistics](https://numpy.org/doc/stable/reference/routines.statistics.html).\n",
        "\n",
        "* `np.amin()`/`np.amax()` gives the minimum/maximum value in an array;\n",
        "* `np.mean()` gives the mean value in an array;\n",
        "* `np.std()` gives the standard deviation in an array;\n",
        "* `np.percentile(x,q)` gives the $q$-th percentile of array $x$."
      ]
    },
    {
      "cell_type": "code",
      "metadata": {
        "colab": {
          "base_uri": "https://localhost:8080/"
        },
        "id": "5_YuR6rWaHSV",
        "outputId": "0a1262a1-8e0c-4789-b994-0adf19d702d3"
      },
      "source": [
        "array = np.random.rand(100,5)\n",
        "print(array)"
      ],
      "execution_count": null,
      "outputs": [
        {
          "output_type": "stream",
          "text": [
            "[[0.1497877  0.10364235 0.13015798 0.30271202 0.17025151]\n",
            " [0.5205516  0.75180653 0.47654947 0.71352741 0.67507964]\n",
            " [0.67648215 0.97504108 0.34964243 0.70597421 0.59808539]\n",
            " [0.93850115 0.05570064 0.70859212 0.15136929 0.39373385]\n",
            " [0.48027065 0.51992717 0.49873619 0.58463595 0.59852071]\n",
            " [0.49584349 0.88580623 0.02681783 0.86098337 0.49726247]\n",
            " [0.64884898 0.34560399 0.48306078 0.09599486 0.6603347 ]\n",
            " [0.92977293 0.13339204 0.04740141 0.80688897 0.29066933]\n",
            " [0.8293901  0.60147447 0.32130179 0.54273706 0.37990219]\n",
            " [0.6039478  0.88840045 0.73457441 0.33693696 0.04208687]\n",
            " [0.13440399 0.77533389 0.83399346 0.7652942  0.54431486]\n",
            " [0.01307942 0.63244863 0.87671006 0.06236033 0.53191683]\n",
            " [0.48735913 0.6064992  0.53802888 0.97847595 0.34684754]\n",
            " [0.57378271 0.24335827 0.42230261 0.2919588  0.13355422]\n",
            " [0.86254219 0.31489153 0.2262731  0.44503319 0.82350266]\n",
            " [0.90310528 0.15251959 0.88392728 0.52130197 0.44258202]\n",
            " [0.43062853 0.91189066 0.23419999 0.5422257  0.27761995]\n",
            " [0.2717107  0.58981998 0.00268547 0.72405817 0.89867401]\n",
            " [0.41917743 0.64330207 0.51414754 0.51599761 0.27230299]\n",
            " [0.09351137 0.07262339 0.04698801 0.98306737 0.1163169 ]\n",
            " [0.85500776 0.2262804  0.87697383 0.91224064 0.26639181]\n",
            " [0.37316858 0.75136452 0.09221567 0.29213993 0.22318446]\n",
            " [0.22717608 0.61813596 0.52804851 0.79229708 0.90421494]\n",
            " [0.10822202 0.01322552 0.45998183 0.17651913 0.00929159]\n",
            " [0.55950881 0.78318345 0.8296537  0.29788527 0.95028556]\n",
            " [0.52325529 0.46280913 0.26992711 0.45960782 0.79202698]\n",
            " [0.04116979 0.32517074 0.28465665 0.12483333 0.88065582]\n",
            " [0.93769898 0.97371171 0.66929661 0.448991   0.2455461 ]\n",
            " [0.80129323 0.61264475 0.90267718 0.6873077  0.59756945]\n",
            " [0.08284015 0.18010003 0.99784916 0.69529113 0.52866743]\n",
            " [0.66009936 0.93842316 0.00520699 0.74572176 0.94336056]\n",
            " [0.50683556 0.64452712 0.794758   0.99553813 0.73576861]\n",
            " [0.36683675 0.21120623 0.40137134 0.29719839 0.33286452]\n",
            " [0.53446518 0.31129853 0.02116219 0.38896007 0.93734976]\n",
            " [0.78895949 0.75800713 0.91643046 0.69524533 0.94632355]\n",
            " [0.78628595 0.49519284 0.99794515 0.60349683 0.95450407]\n",
            " [0.00522419 0.8693814  0.92445389 0.96070576 0.24181932]\n",
            " [0.14706533 0.66901153 0.59241205 0.2840663  0.39673525]\n",
            " [0.34702034 0.67927554 0.79266384 0.03097001 0.596329  ]\n",
            " [0.27101403 0.68957117 0.52746859 0.20813513 0.25786457]\n",
            " [0.01392111 0.70014317 0.27377893 0.80373698 0.91994341]\n",
            " [0.31947767 0.71290269 0.41488743 0.46919819 0.02039051]\n",
            " [0.58202834 0.20839778 0.21213645 0.42191217 0.17088143]\n",
            " [0.05064826 0.27852694 0.1085009  0.0913478  0.4735362 ]\n",
            " [0.32281193 0.18870345 0.83710973 0.35800315 0.3495499 ]\n",
            " [0.12344954 0.98993284 0.11628426 0.75648783 0.57964543]\n",
            " [0.40184921 0.53021141 0.84322095 0.39915936 0.88561082]\n",
            " [0.30913495 0.1729786  0.97816658 0.87711109 0.12187714]\n",
            " [0.61842432 0.20540258 0.11211426 0.31841415 0.48341999]\n",
            " [0.45945902 0.79547743 0.54302812 0.12186397 0.54042113]\n",
            " [0.21358911 0.27375656 0.5774714  0.05558691 0.19359299]\n",
            " [0.66409519 0.27163678 0.46691911 0.95190384 0.55547875]\n",
            " [0.61683869 0.85543333 0.05580609 0.72423596 0.67404635]\n",
            " [0.41191417 0.29537039 0.56066737 0.95680203 0.64936722]\n",
            " [0.42326068 0.05429832 0.61989218 0.69891864 0.12839149]\n",
            " [0.58724355 0.93508676 0.66731219 0.26610362 0.84334948]\n",
            " [0.59436035 0.6432928  0.56107612 0.87909624 0.92959309]\n",
            " [0.67762164 0.62506742 0.75611901 0.62739529 0.12519043]\n",
            " [0.22154461 0.20333783 0.98218563 0.72583303 0.0525391 ]\n",
            " [0.7991198  0.49358478 0.22055254 0.91624392 0.99644746]\n",
            " [0.42692619 0.39136951 0.46664003 0.0352547  0.56485369]\n",
            " [0.59578493 0.69831028 0.69082442 0.67490096 0.83988268]\n",
            " [0.29261278 0.77440951 0.51454036 0.27909473 0.96785955]\n",
            " [0.82308381 0.12891525 0.63958595 0.73462369 0.62778025]\n",
            " [0.73197328 0.8184473  0.97953482 0.8267563  0.92329206]\n",
            " [0.72813324 0.2319799  0.59192147 0.07964382 0.73954667]\n",
            " [0.45476162 0.63332275 0.97994138 0.32871903 0.0344577 ]\n",
            " [0.1313298  0.27250561 0.86572784 0.87589565 0.60031359]\n",
            " [0.19833163 0.88088202 0.23526582 0.56665319 0.77382592]\n",
            " [0.90149525 0.64307403 0.91495052 0.14779766 0.1708157 ]\n",
            " [0.89613759 0.62998371 0.79248251 0.7152223  0.37281963]\n",
            " [0.97811318 0.5473313  0.99291468 0.41512543 0.46741834]\n",
            " [0.14125192 0.70400069 0.47773805 0.69712537 0.84387796]\n",
            " [0.97329991 0.02091375 0.90950842 0.7145736  0.20500865]\n",
            " [0.65290018 0.43996207 0.17428638 0.50001199 0.68204601]\n",
            " [0.81358611 0.8219541  0.8736013  0.03185204 0.75455716]\n",
            " [0.39449928 0.87117702 0.25081162 0.94405104 0.95321042]\n",
            " [0.89632493 0.19482231 0.67125628 0.37616213 0.57671079]\n",
            " [0.02438746 0.33389572 0.61439008 0.50687009 0.23106229]\n",
            " [0.27515881 0.4643347  0.22784531 0.67535699 0.46820648]\n",
            " [0.94112165 0.21152944 0.2373258  0.9990785  0.21297868]\n",
            " [0.58903566 0.19506279 0.51909952 0.63802053 0.21930639]\n",
            " [0.86994123 0.51955565 0.41560415 0.53456652 0.25042895]\n",
            " [0.40026759 0.58455819 0.49510556 0.70044882 0.97584695]\n",
            " [0.08535586 0.39233862 0.99361889 0.09950986 0.05614958]\n",
            " [0.99562011 0.21411861 0.9681962  0.58062072 0.24933601]\n",
            " [0.09744634 0.01090145 0.03131588 0.54947213 0.51064256]\n",
            " [0.0269138  0.47136218 0.60357283 0.35944143 0.7238373 ]\n",
            " [0.96505958 0.65039521 0.15778409 0.86491397 0.97471186]\n",
            " [0.6423401  0.61331799 0.70577634 0.37380602 0.7307984 ]\n",
            " [0.8912357  0.59437895 0.74659481 0.36094075 0.36143581]\n",
            " [0.43147789 0.86848766 0.47959633 0.13769392 0.29434377]\n",
            " [0.58506254 0.9191398  0.22900269 0.81208298 0.43518992]\n",
            " [0.2742576  0.29899343 0.5626409  0.38977595 0.6635975 ]\n",
            " [0.22282712 0.37465318 0.57988286 0.48926778 0.28718675]\n",
            " [0.18109072 0.01512951 0.26237405 0.45800245 0.23141177]\n",
            " [0.28468726 0.66162298 0.79895327 0.59392127 0.02714136]\n",
            " [0.43690235 0.85848496 0.10788754 0.86381923 0.45864275]\n",
            " [0.96945045 0.26676403 0.7758675  0.52751811 0.94227596]\n",
            " [0.16302818 0.93785149 0.49744575 0.52518866 0.42045193]]\n"
          ],
          "name": "stdout"
        }
      ]
    },
    {
      "cell_type": "code",
      "metadata": {
        "colab": {
          "base_uri": "https://localhost:8080/"
        },
        "id": "i7iq1up1f4Wb",
        "outputId": "52110c56-b71f-492f-f1e2-f983c82bc1b1"
      },
      "source": [
        "print(np.amin(array))\n",
        "print(np.amax(array))"
      ],
      "execution_count": null,
      "outputs": [
        {
          "output_type": "stream",
          "text": [
            "0.0026854731417872424\n",
            "0.9990785034110865\n"
          ],
          "name": "stdout"
        }
      ]
    },
    {
      "cell_type": "code",
      "metadata": {
        "colab": {
          "base_uri": "https://localhost:8080/"
        },
        "id": "5C4nw1LHgNgm",
        "outputId": "c1c5afec-11ed-4141-9e11-af084a72199d"
      },
      "source": [
        "print(np.mean(array[:,0]))\n",
        "print(np.std(array[:,0]))"
      ],
      "execution_count": null,
      "outputs": [
        {
          "output_type": "stream",
          "text": [
            "0.49179849970242345\n",
            "0.2907963864161126\n"
          ],
          "name": "stdout"
        }
      ]
    },
    {
      "cell_type": "markdown",
      "metadata": {
        "id": "8vbMFS-LgZQG"
      },
      "source": [
        "We just printed the mean and standard deviation of the first column of the array, which is a vector of 100 entries."
      ]
    },
    {
      "cell_type": "code",
      "metadata": {
        "colab": {
          "base_uri": "https://localhost:8080/"
        },
        "id": "2N34B9SFgiNR",
        "outputId": "b044b242-04a9-458d-c41f-6d0dd2640f08"
      },
      "source": [
        "print(np.percentile(array[:,0],95))"
      ],
      "execution_count": null,
      "outputs": [
        {
          "output_type": "stream",
          "text": [
            "0.9423185462730549\n"
          ],
          "name": "stdout"
        }
      ]
    },
    {
      "cell_type": "markdown",
      "metadata": {
        "id": "voiNs-AxbWH-"
      },
      "source": [
        "We printed the 95-th percentile"
      ]
    },
    {
      "cell_type": "markdown",
      "metadata": {
        "id": "vCd8b8dTh7Pj"
      },
      "source": [
        "## Linear algebra operations\n",
        "Numpy allows linear algebra operations through the `numpy.linalg` functions. All the functions can be found at [Linear algebra](https://numpy.org/doc/stable/reference/routines.linalg.html#module-numpy.linalg). Let's see the basics:\n",
        "* `np.dot(A,B)` computes the dot product between matrices;\n",
        "* `np.linalg.inv(A)` computes the inverse of matrix $A$;\n",
        "* `np.linalg.det(A)` computes the determinant of matrix $A$;\n",
        "* `np.linalg.matrix_power(A,n)` computes the power ($n$) of matrix $A$.\n"
      ]
    },
    {
      "cell_type": "code",
      "metadata": {
        "colab": {
          "base_uri": "https://localhost:8080/"
        },
        "id": "Zli0-uOSi6KJ",
        "outputId": "c7ef5816-012a-43a4-c577-34e29ce622a8"
      },
      "source": [
        "A = np.array(random.randint(10, size=(4, 4)))\n",
        "B = np.array(random.randint(10, size=(4, 4)))\n",
        "print(A)\n",
        "print('\\n')\n",
        "print(B)"
      ],
      "execution_count": null,
      "outputs": [
        {
          "output_type": "stream",
          "text": [
            "[[9 2 0 1]\n",
            " [7 1 9 6]\n",
            " [1 2 0 9]\n",
            " [9 4 6 7]]\n",
            "\n",
            "\n",
            "[[8 5 1 0]\n",
            " [5 6 1 3]\n",
            " [3 9 4 5]\n",
            " [4 5 8 0]]\n"
          ],
          "name": "stdout"
        }
      ]
    },
    {
      "cell_type": "markdown",
      "metadata": {
        "id": "InOnj0-3lrMg"
      },
      "source": [
        "Basic operation can be implemented with matrix (and we can do the same scalars):"
      ]
    },
    {
      "cell_type": "code",
      "metadata": {
        "colab": {
          "base_uri": "https://localhost:8080/"
        },
        "id": "rSr6ms7ml15h",
        "outputId": "1cff014f-0cc1-42df-d7cb-2743e9f778b7"
      },
      "source": [
        "sum = A + B\n",
        "print(sum)\n",
        "print('\\n')\n",
        "diff = A - B\n",
        "print(diff)"
      ],
      "execution_count": null,
      "outputs": [
        {
          "output_type": "stream",
          "text": [
            "[[17  7  1  1]\n",
            " [12  7 10  9]\n",
            " [ 4 11  4 14]\n",
            " [13  9 14  7]]\n",
            "\n",
            "\n",
            "[[ 1 -3 -1  1]\n",
            " [ 2 -5  8  3]\n",
            " [-2 -7 -4  4]\n",
            " [ 5 -1 -2  7]]\n"
          ],
          "name": "stdout"
        }
      ]
    },
    {
      "cell_type": "markdown",
      "metadata": {
        "id": "aAQeVcUjmHMe"
      },
      "source": [
        "You can do the same with vectors of the same dimension:"
      ]
    },
    {
      "cell_type": "code",
      "metadata": {
        "colab": {
          "base_uri": "https://localhost:8080/"
        },
        "id": "Tc0a5iICmL9t",
        "outputId": "6e312121-e7d3-409b-dbb7-5060de4e943c"
      },
      "source": [
        "vector_operation = A[:,0] + A[:,1] - B[:,2]\n",
        "print(vector_operation)"
      ],
      "execution_count": null,
      "outputs": [
        {
          "output_type": "stream",
          "text": [
            "[10  7 -1  5]\n"
          ],
          "name": "stdout"
        }
      ]
    },
    {
      "cell_type": "code",
      "metadata": {
        "colab": {
          "base_uri": "https://localhost:8080/"
        },
        "id": "pzVHrWXqlU0d",
        "outputId": "195c1240-6d55-4e78-95d8-2dd027cc9092"
      },
      "source": [
        "product = np.dot(A,B)\n",
        "print(product)"
      ],
      "execution_count": null,
      "outputs": [
        {
          "output_type": "stream",
          "text": [
            "[[ 86  62  19   6]\n",
            " [112 152  92  48]\n",
            " [ 54  62  75   6]\n",
            " [138 158  93  42]]\n"
          ],
          "name": "stdout"
        }
      ]
    },
    {
      "cell_type": "markdown",
      "metadata": {
        "id": "B9rFRmgtokvP"
      },
      "source": [
        "We just computed the matrix product. "
      ]
    },
    {
      "cell_type": "code",
      "metadata": {
        "colab": {
          "base_uri": "https://localhost:8080/"
        },
        "id": "Fvwr4xIYbkCU",
        "outputId": "47600e1e-0ce3-4089-c5ff-3e9eabeaba30"
      },
      "source": [
        "det = np.linalg.det(A)\n",
        "print(det)"
      ],
      "execution_count": null,
      "outputs": [
        {
          "output_type": "stream",
          "text": [
            "1344.0000000000002\n"
          ],
          "name": "stdout"
        }
      ]
    },
    {
      "cell_type": "markdown",
      "metadata": {
        "id": "42n2oEp5bueX"
      },
      "source": [
        "We just computed the determinant of the matrix $A$."
      ]
    },
    {
      "cell_type": "code",
      "metadata": {
        "colab": {
          "base_uri": "https://localhost:8080/"
        },
        "id": "fvVbAaZLby2S",
        "outputId": "11ed6ba0-f43b-4140-a7e1-b7b8b39dbaa6"
      },
      "source": [
        "A_inv = np.linalg.inv(A)\n",
        "print(A_inv)"
      ],
      "execution_count": null,
      "outputs": [
        {
          "output_type": "stream",
          "text": [
            "[[ 0.16071429  0.07142857  0.01785714 -0.10714286]\n",
            " [-0.24107143 -0.35714286 -0.15178571  0.53571429]\n",
            " [-0.12202381  0.04761905 -0.0922619   0.0952381 ]\n",
            " [ 0.03571429  0.07142857  0.14285714 -0.10714286]]\n"
          ],
          "name": "stdout"
        }
      ]
    },
    {
      "cell_type": "markdown",
      "metadata": {
        "id": "ImiooGimb8LA"
      },
      "source": [
        "We computed the inverse of $A$"
      ]
    },
    {
      "cell_type": "code",
      "metadata": {
        "colab": {
          "base_uri": "https://localhost:8080/"
        },
        "id": "lrq5QyEicC2J",
        "outputId": "b63ac77b-9cf0-4ea9-a250-df7dfedc3f30"
      },
      "source": [
        "A_squared = np.linalg.matrix_power(A,2)\n",
        "print(A_squared)"
      ],
      "execution_count": null,
      "outputs": [
        {
          "output_type": "stream",
          "text": [
            "[[104  24  24  28]\n",
            " [133  57  45 136]\n",
            " [104  40  72  76]\n",
            " [178  62  78 136]]\n"
          ],
          "name": "stdout"
        }
      ]
    },
    {
      "cell_type": "markdown",
      "metadata": {
        "id": "f-Heh4qUcL-N"
      },
      "source": [
        "We computed $A^2$.\n",
        "\n",
        "##Conclusion\n",
        "\n",
        "In this tutorial, we applied the primary functions of NumPy library. More functions can be found in the official guideline. In the following tutorial, you will get a flavor of Pandas, another essential python package. You will recognize that combining functions with these two libraries will be fundamental to work with neural networks, deep learning and with any other data science application."
      ]
    }
  ]
}